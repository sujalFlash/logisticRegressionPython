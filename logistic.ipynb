{
 "cells": [
  {
   "cell_type": "code",
   "execution_count": 3,
   "id": "initial_id",
   "metadata": {
    "ExecuteTime": {
     "end_time": "2024-07-20T05:48:05.586463Z",
     "start_time": "2024-07-20T05:48:05.578672Z"
    },
    "collapsed": true,
    "jupyter": {
     "outputs_hidden": true
    }
   },
   "outputs": [],
   "source": [
    "%matplotlib inline\n",
    "import matplotlib as mpl\n",
    "import matplotlib.pyplot as plt\n",
    "import numpy as np\n",
    "import pandas as pd\n",
    "import seaborn as sns\n",
    "import sklearn\n",
    "import os\n"
   ]
  },
  {
   "cell_type": "code",
   "execution_count": 4,
   "id": "312d81fec757c18e",
   "metadata": {
    "ExecuteTime": {
     "end_time": "2024-07-20T05:48:15.985225Z",
     "start_time": "2024-07-20T05:48:15.979602Z"
    },
    "collapsed": false,
    "jupyter": {
     "outputs_hidden": false
    }
   },
   "outputs": [],
   "source": [
    "mpl.rc('axes', labelsize=14)\n",
    "mpl.rc('xtick', labelsize=12)\n",
    "mpl.rc('ytick', labelsize=12)"
   ]
  },
  {
   "cell_type": "code",
   "execution_count": 5,
   "id": "bc04f0368a2e092d",
   "metadata": {
    "ExecuteTime": {
     "end_time": "2024-07-20T05:50:14.548387Z",
     "start_time": "2024-07-20T05:50:14.538033Z"
    },
    "collapsed": false,
    "jupyter": {
     "outputs_hidden": false
    }
   },
   "outputs": [],
   "source": [
    "PROJECT_ROOT_DIR = \".\"\n",
    "CHAPTER_ID = \"images\"\n",
    "IMAGES_PATH = os.path.join(PROJECT_ROOT_DIR, \"graphplot\", CHAPTER_ID)\n",
    "os.makedirs(IMAGES_PATH, exist_ok=True)\n",
    "\n",
    "def save_fig(fig_id, tight_layout=True, fig_extension=\"png\", resolution=300):\n",
    "    path = os.path.join(IMAGES_PATH, fig_id + \".\" + fig_extension)\n",
    "    print(\"Saving figure\", fig_id)\n",
    "    if tight_layout:\n",
    "        plt.tight_layout()\n",
    "    plt.savefig(path, format=fig_extension, dpi=resolution)"
   ]
  },
  {
   "cell_type": "code",
   "execution_count": 7,
   "id": "a61f117d17ddc640",
   "metadata": {
    "ExecuteTime": {
     "end_time": "2024-07-20T05:52:14.242976Z",
     "start_time": "2024-07-20T05:52:13.495512Z"
    },
    "collapsed": false,
    "jupyter": {
     "outputs_hidden": false
    }
   },
   "outputs": [],
   "source": [
    "neo=pd.read_csv(r\"C:\\Users\\sujal\\PycharmProjects\\logistic_regression\\dataset\\nearest-earth-objects(1910-2024).csv\")"
   ]
  },
  {
   "cell_type": "code",
   "execution_count": 8,
   "id": "81e32e3258a18c51",
   "metadata": {
    "ExecuteTime": {
     "end_time": "2024-07-20T05:52:22.593958Z",
     "start_time": "2024-07-20T05:52:22.570966Z"
    },
    "collapsed": false,
    "jupyter": {
     "outputs_hidden": false
    }
   },
   "outputs": [
    {
     "data": {
      "text/html": [
       "<div>\n",
       "<style scoped>\n",
       "    .dataframe tbody tr th:only-of-type {\n",
       "        vertical-align: middle;\n",
       "    }\n",
       "\n",
       "    .dataframe tbody tr th {\n",
       "        vertical-align: top;\n",
       "    }\n",
       "\n",
       "    .dataframe thead th {\n",
       "        text-align: right;\n",
       "    }\n",
       "</style>\n",
       "<table border=\"1\" class=\"dataframe\">\n",
       "  <thead>\n",
       "    <tr style=\"text-align: right;\">\n",
       "      <th></th>\n",
       "      <th>neo_id</th>\n",
       "      <th>name</th>\n",
       "      <th>absolute_magnitude</th>\n",
       "      <th>estimated_diameter_min</th>\n",
       "      <th>estimated_diameter_max</th>\n",
       "      <th>orbiting_body</th>\n",
       "      <th>relative_velocity</th>\n",
       "      <th>miss_distance</th>\n",
       "      <th>is_hazardous</th>\n",
       "    </tr>\n",
       "  </thead>\n",
       "  <tbody>\n",
       "    <tr>\n",
       "      <th>0</th>\n",
       "      <td>2162117</td>\n",
       "      <td>162117 (1998 SD15)</td>\n",
       "      <td>19.14</td>\n",
       "      <td>0.394962</td>\n",
       "      <td>0.883161</td>\n",
       "      <td>Earth</td>\n",
       "      <td>71745.401048</td>\n",
       "      <td>5.814362e+07</td>\n",
       "      <td>False</td>\n",
       "    </tr>\n",
       "    <tr>\n",
       "      <th>1</th>\n",
       "      <td>2349507</td>\n",
       "      <td>349507 (2008 QY)</td>\n",
       "      <td>18.50</td>\n",
       "      <td>0.530341</td>\n",
       "      <td>1.185878</td>\n",
       "      <td>Earth</td>\n",
       "      <td>109949.757148</td>\n",
       "      <td>5.580105e+07</td>\n",
       "      <td>True</td>\n",
       "    </tr>\n",
       "    <tr>\n",
       "      <th>2</th>\n",
       "      <td>2455415</td>\n",
       "      <td>455415 (2003 GA)</td>\n",
       "      <td>21.45</td>\n",
       "      <td>0.136319</td>\n",
       "      <td>0.304818</td>\n",
       "      <td>Earth</td>\n",
       "      <td>24865.506798</td>\n",
       "      <td>6.720689e+07</td>\n",
       "      <td>False</td>\n",
       "    </tr>\n",
       "    <tr>\n",
       "      <th>3</th>\n",
       "      <td>3132126</td>\n",
       "      <td>(2002 PB)</td>\n",
       "      <td>20.63</td>\n",
       "      <td>0.198863</td>\n",
       "      <td>0.444672</td>\n",
       "      <td>Earth</td>\n",
       "      <td>78890.076805</td>\n",
       "      <td>3.039644e+07</td>\n",
       "      <td>False</td>\n",
       "    </tr>\n",
       "    <tr>\n",
       "      <th>4</th>\n",
       "      <td>3557844</td>\n",
       "      <td>(2011 DW)</td>\n",
       "      <td>22.70</td>\n",
       "      <td>0.076658</td>\n",
       "      <td>0.171412</td>\n",
       "      <td>Earth</td>\n",
       "      <td>56036.519484</td>\n",
       "      <td>6.311863e+07</td>\n",
       "      <td>False</td>\n",
       "    </tr>\n",
       "  </tbody>\n",
       "</table>\n",
       "</div>"
      ],
      "text/plain": [
       "    neo_id                name  absolute_magnitude  estimated_diameter_min  \\\n",
       "0  2162117  162117 (1998 SD15)               19.14                0.394962   \n",
       "1  2349507    349507 (2008 QY)               18.50                0.530341   \n",
       "2  2455415    455415 (2003 GA)               21.45                0.136319   \n",
       "3  3132126           (2002 PB)               20.63                0.198863   \n",
       "4  3557844           (2011 DW)               22.70                0.076658   \n",
       "\n",
       "   estimated_diameter_max orbiting_body  relative_velocity  miss_distance  \\\n",
       "0                0.883161         Earth       71745.401048   5.814362e+07   \n",
       "1                1.185878         Earth      109949.757148   5.580105e+07   \n",
       "2                0.304818         Earth       24865.506798   6.720689e+07   \n",
       "3                0.444672         Earth       78890.076805   3.039644e+07   \n",
       "4                0.171412         Earth       56036.519484   6.311863e+07   \n",
       "\n",
       "   is_hazardous  \n",
       "0         False  \n",
       "1          True  \n",
       "2         False  \n",
       "3         False  \n",
       "4         False  "
      ]
     },
     "execution_count": 8,
     "metadata": {},
     "output_type": "execute_result"
    }
   ],
   "source": [
    "neo.head()"
   ]
  },
  {
   "cell_type": "code",
   "execution_count": 9,
   "id": "a2db2553c27f2b63",
   "metadata": {
    "ExecuteTime": {
     "end_time": "2024-07-20T05:52:52.060921Z",
     "start_time": "2024-07-20T05:52:51.993438Z"
    },
    "collapsed": false,
    "jupyter": {
     "outputs_hidden": false
    }
   },
   "outputs": [
    {
     "name": "stdout",
     "output_type": "stream",
     "text": [
      "<class 'pandas.core.frame.DataFrame'>\n",
      "RangeIndex: 338199 entries, 0 to 338198\n",
      "Data columns (total 9 columns):\n",
      " #   Column                  Non-Null Count   Dtype  \n",
      "---  ------                  --------------   -----  \n",
      " 0   neo_id                  338199 non-null  int64  \n",
      " 1   name                    338199 non-null  object \n",
      " 2   absolute_magnitude      338171 non-null  float64\n",
      " 3   estimated_diameter_min  338171 non-null  float64\n",
      " 4   estimated_diameter_max  338171 non-null  float64\n",
      " 5   orbiting_body           338199 non-null  object \n",
      " 6   relative_velocity       338199 non-null  float64\n",
      " 7   miss_distance           338199 non-null  float64\n",
      " 8   is_hazardous            338199 non-null  bool   \n",
      "dtypes: bool(1), float64(5), int64(1), object(2)\n",
      "memory usage: 21.0+ MB\n"
     ]
    }
   ],
   "source": [
    "neo.info()"
   ]
  },
  {
   "cell_type": "code",
   "execution_count": 13,
   "id": "86bfc3c7def5358d",
   "metadata": {
    "ExecuteTime": {
     "end_time": "2024-07-20T05:55:33.087082Z",
     "start_time": "2024-07-20T05:55:33.025781Z"
    },
    "collapsed": false,
    "jupyter": {
     "outputs_hidden": false
    }
   },
   "outputs": [
    {
     "data": {
      "text/plain": [
       "neo_id                     0\n",
       "name                       0\n",
       "absolute_magnitude        28\n",
       "estimated_diameter_min    28\n",
       "estimated_diameter_max    28\n",
       "orbiting_body              0\n",
       "relative_velocity          0\n",
       "miss_distance              0\n",
       "is_hazardous               0\n",
       "dtype: int64"
      ]
     },
     "execution_count": 13,
     "metadata": {},
     "output_type": "execute_result"
    }
   ],
   "source": [
    "neo.isnull().sum()"
   ]
  },
  {
   "cell_type": "code",
   "execution_count": 14,
   "id": "864bac5896b79708",
   "metadata": {
    "ExecuteTime": {
     "end_time": "2024-07-20T05:55:56.617230Z",
     "start_time": "2024-07-20T05:55:56.597065Z"
    },
    "collapsed": false,
    "jupyter": {
     "outputs_hidden": false
    }
   },
   "outputs": [
    {
     "data": {
      "text/html": [
       "<div>\n",
       "<style scoped>\n",
       "    .dataframe tbody tr th:only-of-type {\n",
       "        vertical-align: middle;\n",
       "    }\n",
       "\n",
       "    .dataframe tbody tr th {\n",
       "        vertical-align: top;\n",
       "    }\n",
       "\n",
       "    .dataframe thead th {\n",
       "        text-align: right;\n",
       "    }\n",
       "</style>\n",
       "<table border=\"1\" class=\"dataframe\">\n",
       "  <thead>\n",
       "    <tr style=\"text-align: right;\">\n",
       "      <th></th>\n",
       "      <th>neo_id</th>\n",
       "      <th>name</th>\n",
       "      <th>absolute_magnitude</th>\n",
       "      <th>estimated_diameter_min</th>\n",
       "      <th>estimated_diameter_max</th>\n",
       "      <th>orbiting_body</th>\n",
       "      <th>relative_velocity</th>\n",
       "      <th>miss_distance</th>\n",
       "      <th>is_hazardous</th>\n",
       "    </tr>\n",
       "  </thead>\n",
       "  <tbody>\n",
       "    <tr>\n",
       "      <th>0</th>\n",
       "      <td>2162117</td>\n",
       "      <td>162117 (1998 SD15)</td>\n",
       "      <td>19.14</td>\n",
       "      <td>0.394962</td>\n",
       "      <td>0.883161</td>\n",
       "      <td>Earth</td>\n",
       "      <td>71745.401048</td>\n",
       "      <td>5.814362e+07</td>\n",
       "      <td>False</td>\n",
       "    </tr>\n",
       "    <tr>\n",
       "      <th>1</th>\n",
       "      <td>2349507</td>\n",
       "      <td>349507 (2008 QY)</td>\n",
       "      <td>18.50</td>\n",
       "      <td>0.530341</td>\n",
       "      <td>1.185878</td>\n",
       "      <td>Earth</td>\n",
       "      <td>109949.757148</td>\n",
       "      <td>5.580105e+07</td>\n",
       "      <td>True</td>\n",
       "    </tr>\n",
       "    <tr>\n",
       "      <th>2</th>\n",
       "      <td>2455415</td>\n",
       "      <td>455415 (2003 GA)</td>\n",
       "      <td>21.45</td>\n",
       "      <td>0.136319</td>\n",
       "      <td>0.304818</td>\n",
       "      <td>Earth</td>\n",
       "      <td>24865.506798</td>\n",
       "      <td>6.720689e+07</td>\n",
       "      <td>False</td>\n",
       "    </tr>\n",
       "    <tr>\n",
       "      <th>3</th>\n",
       "      <td>3132126</td>\n",
       "      <td>(2002 PB)</td>\n",
       "      <td>20.63</td>\n",
       "      <td>0.198863</td>\n",
       "      <td>0.444672</td>\n",
       "      <td>Earth</td>\n",
       "      <td>78890.076805</td>\n",
       "      <td>3.039644e+07</td>\n",
       "      <td>False</td>\n",
       "    </tr>\n",
       "    <tr>\n",
       "      <th>4</th>\n",
       "      <td>3557844</td>\n",
       "      <td>(2011 DW)</td>\n",
       "      <td>22.70</td>\n",
       "      <td>0.076658</td>\n",
       "      <td>0.171412</td>\n",
       "      <td>Earth</td>\n",
       "      <td>56036.519484</td>\n",
       "      <td>6.311863e+07</td>\n",
       "      <td>False</td>\n",
       "    </tr>\n",
       "    <tr>\n",
       "      <th>5</th>\n",
       "      <td>3656926</td>\n",
       "      <td>(2014 BT8)</td>\n",
       "      <td>25.00</td>\n",
       "      <td>0.026580</td>\n",
       "      <td>0.059435</td>\n",
       "      <td>Earth</td>\n",
       "      <td>47477.649832</td>\n",
       "      <td>4.290521e+07</td>\n",
       "      <td>False</td>\n",
       "    </tr>\n",
       "    <tr>\n",
       "      <th>6</th>\n",
       "      <td>3421513</td>\n",
       "      <td>(2008 OX1)</td>\n",
       "      <td>21.50</td>\n",
       "      <td>0.133216</td>\n",
       "      <td>0.297879</td>\n",
       "      <td>Earth</td>\n",
       "      <td>57853.295346</td>\n",
       "      <td>2.727908e+07</td>\n",
       "      <td>True</td>\n",
       "    </tr>\n",
       "    <tr>\n",
       "      <th>7</th>\n",
       "      <td>3541504</td>\n",
       "      <td>(2010 OF101)</td>\n",
       "      <td>19.75</td>\n",
       "      <td>0.298233</td>\n",
       "      <td>0.666868</td>\n",
       "      <td>Earth</td>\n",
       "      <td>46972.486794</td>\n",
       "      <td>6.997593e+07</td>\n",
       "      <td>False</td>\n",
       "    </tr>\n",
       "    <tr>\n",
       "      <th>8</th>\n",
       "      <td>3836942</td>\n",
       "      <td>(2018 YH)</td>\n",
       "      <td>21.70</td>\n",
       "      <td>0.121494</td>\n",
       "      <td>0.271669</td>\n",
       "      <td>Earth</td>\n",
       "      <td>37424.548382</td>\n",
       "      <td>5.657727e+06</td>\n",
       "      <td>True</td>\n",
       "    </tr>\n",
       "    <tr>\n",
       "      <th>9</th>\n",
       "      <td>3892166</td>\n",
       "      <td>(2019 UP13)</td>\n",
       "      <td>23.45</td>\n",
       "      <td>0.054269</td>\n",
       "      <td>0.121350</td>\n",
       "      <td>Earth</td>\n",
       "      <td>38524.867869</td>\n",
       "      <td>6.166118e+07</td>\n",
       "      <td>False</td>\n",
       "    </tr>\n",
       "  </tbody>\n",
       "</table>\n",
       "</div>"
      ],
      "text/plain": [
       "    neo_id                name  absolute_magnitude  estimated_diameter_min  \\\n",
       "0  2162117  162117 (1998 SD15)               19.14                0.394962   \n",
       "1  2349507    349507 (2008 QY)               18.50                0.530341   \n",
       "2  2455415    455415 (2003 GA)               21.45                0.136319   \n",
       "3  3132126           (2002 PB)               20.63                0.198863   \n",
       "4  3557844           (2011 DW)               22.70                0.076658   \n",
       "5  3656926          (2014 BT8)               25.00                0.026580   \n",
       "6  3421513          (2008 OX1)               21.50                0.133216   \n",
       "7  3541504        (2010 OF101)               19.75                0.298233   \n",
       "8  3836942           (2018 YH)               21.70                0.121494   \n",
       "9  3892166         (2019 UP13)               23.45                0.054269   \n",
       "\n",
       "   estimated_diameter_max orbiting_body  relative_velocity  miss_distance  \\\n",
       "0                0.883161         Earth       71745.401048   5.814362e+07   \n",
       "1                1.185878         Earth      109949.757148   5.580105e+07   \n",
       "2                0.304818         Earth       24865.506798   6.720689e+07   \n",
       "3                0.444672         Earth       78890.076805   3.039644e+07   \n",
       "4                0.171412         Earth       56036.519484   6.311863e+07   \n",
       "5                0.059435         Earth       47477.649832   4.290521e+07   \n",
       "6                0.297879         Earth       57853.295346   2.727908e+07   \n",
       "7                0.666868         Earth       46972.486794   6.997593e+07   \n",
       "8                0.271669         Earth       37424.548382   5.657727e+06   \n",
       "9                0.121350         Earth       38524.867869   6.166118e+07   \n",
       "\n",
       "   is_hazardous  \n",
       "0         False  \n",
       "1          True  \n",
       "2         False  \n",
       "3         False  \n",
       "4         False  \n",
       "5         False  \n",
       "6          True  \n",
       "7         False  \n",
       "8          True  \n",
       "9         False  "
      ]
     },
     "execution_count": 14,
     "metadata": {},
     "output_type": "execute_result"
    }
   ],
   "source": [
    "neo.head(10)"
   ]
  },
  {
   "cell_type": "code",
   "execution_count": 15,
   "id": "3bbe264948bf7e58",
   "metadata": {
    "ExecuteTime": {
     "end_time": "2024-07-20T06:01:12.735168Z",
     "start_time": "2024-07-20T06:01:12.706515Z"
    },
    "collapsed": false,
    "jupyter": {
     "outputs_hidden": false
    }
   },
   "outputs": [],
   "source": [
    "neo = neo.drop(columns=['neo_id'])"
   ]
  },
  {
   "cell_type": "code",
   "execution_count": 16,
   "id": "36785ce42125e40",
   "metadata": {
    "ExecuteTime": {
     "end_time": "2024-07-20T06:01:58.200600Z",
     "start_time": "2024-07-20T06:01:58.126139Z"
    },
    "collapsed": false,
    "jupyter": {
     "outputs_hidden": false
    }
   },
   "outputs": [
    {
     "name": "stdout",
     "output_type": "stream",
     "text": [
      "<class 'pandas.core.frame.DataFrame'>\n",
      "RangeIndex: 338199 entries, 0 to 338198\n",
      "Data columns (total 8 columns):\n",
      " #   Column                  Non-Null Count   Dtype  \n",
      "---  ------                  --------------   -----  \n",
      " 0   name                    338199 non-null  object \n",
      " 1   absolute_magnitude      338171 non-null  float64\n",
      " 2   estimated_diameter_min  338171 non-null  float64\n",
      " 3   estimated_diameter_max  338171 non-null  float64\n",
      " 4   orbiting_body           338199 non-null  object \n",
      " 5   relative_velocity       338199 non-null  float64\n",
      " 6   miss_distance           338199 non-null  float64\n",
      " 7   is_hazardous            338199 non-null  bool   \n",
      "dtypes: bool(1), float64(5), object(2)\n",
      "memory usage: 18.4+ MB\n"
     ]
    }
   ],
   "source": [
    "neo.info()"
   ]
  },
  {
   "cell_type": "code",
   "execution_count": 17,
   "id": "9e80b849aa441186",
   "metadata": {
    "ExecuteTime": {
     "end_time": "2024-07-20T06:05:19.213870Z",
     "start_time": "2024-07-20T06:05:19.191635Z"
    },
    "collapsed": false,
    "jupyter": {
     "outputs_hidden": false
    }
   },
   "outputs": [],
   "source": [
    "neo=neo.drop(columns=['name'])"
   ]
  },
  {
   "cell_type": "code",
   "execution_count": 18,
   "id": "9d38068730b1b173",
   "metadata": {
    "ExecuteTime": {
     "end_time": "2024-07-20T06:05:28.307908Z",
     "start_time": "2024-07-20T06:05:28.284195Z"
    },
    "collapsed": false,
    "jupyter": {
     "outputs_hidden": false
    }
   },
   "outputs": [
    {
     "data": {
      "text/html": [
       "<div>\n",
       "<style scoped>\n",
       "    .dataframe tbody tr th:only-of-type {\n",
       "        vertical-align: middle;\n",
       "    }\n",
       "\n",
       "    .dataframe tbody tr th {\n",
       "        vertical-align: top;\n",
       "    }\n",
       "\n",
       "    .dataframe thead th {\n",
       "        text-align: right;\n",
       "    }\n",
       "</style>\n",
       "<table border=\"1\" class=\"dataframe\">\n",
       "  <thead>\n",
       "    <tr style=\"text-align: right;\">\n",
       "      <th></th>\n",
       "      <th>absolute_magnitude</th>\n",
       "      <th>estimated_diameter_min</th>\n",
       "      <th>estimated_diameter_max</th>\n",
       "      <th>orbiting_body</th>\n",
       "      <th>relative_velocity</th>\n",
       "      <th>miss_distance</th>\n",
       "      <th>is_hazardous</th>\n",
       "    </tr>\n",
       "  </thead>\n",
       "  <tbody>\n",
       "    <tr>\n",
       "      <th>0</th>\n",
       "      <td>19.14</td>\n",
       "      <td>0.394962</td>\n",
       "      <td>0.883161</td>\n",
       "      <td>Earth</td>\n",
       "      <td>71745.401048</td>\n",
       "      <td>5.814362e+07</td>\n",
       "      <td>False</td>\n",
       "    </tr>\n",
       "    <tr>\n",
       "      <th>1</th>\n",
       "      <td>18.50</td>\n",
       "      <td>0.530341</td>\n",
       "      <td>1.185878</td>\n",
       "      <td>Earth</td>\n",
       "      <td>109949.757148</td>\n",
       "      <td>5.580105e+07</td>\n",
       "      <td>True</td>\n",
       "    </tr>\n",
       "    <tr>\n",
       "      <th>2</th>\n",
       "      <td>21.45</td>\n",
       "      <td>0.136319</td>\n",
       "      <td>0.304818</td>\n",
       "      <td>Earth</td>\n",
       "      <td>24865.506798</td>\n",
       "      <td>6.720689e+07</td>\n",
       "      <td>False</td>\n",
       "    </tr>\n",
       "    <tr>\n",
       "      <th>3</th>\n",
       "      <td>20.63</td>\n",
       "      <td>0.198863</td>\n",
       "      <td>0.444672</td>\n",
       "      <td>Earth</td>\n",
       "      <td>78890.076805</td>\n",
       "      <td>3.039644e+07</td>\n",
       "      <td>False</td>\n",
       "    </tr>\n",
       "    <tr>\n",
       "      <th>4</th>\n",
       "      <td>22.70</td>\n",
       "      <td>0.076658</td>\n",
       "      <td>0.171412</td>\n",
       "      <td>Earth</td>\n",
       "      <td>56036.519484</td>\n",
       "      <td>6.311863e+07</td>\n",
       "      <td>False</td>\n",
       "    </tr>\n",
       "    <tr>\n",
       "      <th>5</th>\n",
       "      <td>25.00</td>\n",
       "      <td>0.026580</td>\n",
       "      <td>0.059435</td>\n",
       "      <td>Earth</td>\n",
       "      <td>47477.649832</td>\n",
       "      <td>4.290521e+07</td>\n",
       "      <td>False</td>\n",
       "    </tr>\n",
       "    <tr>\n",
       "      <th>6</th>\n",
       "      <td>21.50</td>\n",
       "      <td>0.133216</td>\n",
       "      <td>0.297879</td>\n",
       "      <td>Earth</td>\n",
       "      <td>57853.295346</td>\n",
       "      <td>2.727908e+07</td>\n",
       "      <td>True</td>\n",
       "    </tr>\n",
       "    <tr>\n",
       "      <th>7</th>\n",
       "      <td>19.75</td>\n",
       "      <td>0.298233</td>\n",
       "      <td>0.666868</td>\n",
       "      <td>Earth</td>\n",
       "      <td>46972.486794</td>\n",
       "      <td>6.997593e+07</td>\n",
       "      <td>False</td>\n",
       "    </tr>\n",
       "    <tr>\n",
       "      <th>8</th>\n",
       "      <td>21.70</td>\n",
       "      <td>0.121494</td>\n",
       "      <td>0.271669</td>\n",
       "      <td>Earth</td>\n",
       "      <td>37424.548382</td>\n",
       "      <td>5.657727e+06</td>\n",
       "      <td>True</td>\n",
       "    </tr>\n",
       "    <tr>\n",
       "      <th>9</th>\n",
       "      <td>23.45</td>\n",
       "      <td>0.054269</td>\n",
       "      <td>0.121350</td>\n",
       "      <td>Earth</td>\n",
       "      <td>38524.867869</td>\n",
       "      <td>6.166118e+07</td>\n",
       "      <td>False</td>\n",
       "    </tr>\n",
       "  </tbody>\n",
       "</table>\n",
       "</div>"
      ],
      "text/plain": [
       "   absolute_magnitude  estimated_diameter_min  estimated_diameter_max  \\\n",
       "0               19.14                0.394962                0.883161   \n",
       "1               18.50                0.530341                1.185878   \n",
       "2               21.45                0.136319                0.304818   \n",
       "3               20.63                0.198863                0.444672   \n",
       "4               22.70                0.076658                0.171412   \n",
       "5               25.00                0.026580                0.059435   \n",
       "6               21.50                0.133216                0.297879   \n",
       "7               19.75                0.298233                0.666868   \n",
       "8               21.70                0.121494                0.271669   \n",
       "9               23.45                0.054269                0.121350   \n",
       "\n",
       "  orbiting_body  relative_velocity  miss_distance  is_hazardous  \n",
       "0         Earth       71745.401048   5.814362e+07         False  \n",
       "1         Earth      109949.757148   5.580105e+07          True  \n",
       "2         Earth       24865.506798   6.720689e+07         False  \n",
       "3         Earth       78890.076805   3.039644e+07         False  \n",
       "4         Earth       56036.519484   6.311863e+07         False  \n",
       "5         Earth       47477.649832   4.290521e+07         False  \n",
       "6         Earth       57853.295346   2.727908e+07          True  \n",
       "7         Earth       46972.486794   6.997593e+07         False  \n",
       "8         Earth       37424.548382   5.657727e+06          True  \n",
       "9         Earth       38524.867869   6.166118e+07         False  "
      ]
     },
     "execution_count": 18,
     "metadata": {},
     "output_type": "execute_result"
    }
   ],
   "source": [
    "neo.head(10)"
   ]
  },
  {
   "cell_type": "code",
   "execution_count": 20,
   "id": "37cde55f018e41a6",
   "metadata": {
    "ExecuteTime": {
     "end_time": "2024-07-20T06:06:08.370576Z",
     "start_time": "2024-07-20T06:06:08.191425Z"
    },
    "collapsed": false,
    "jupyter": {
     "outputs_hidden": false
    }
   },
   "outputs": [
    {
     "data": {
      "text/html": [
       "<div>\n",
       "<style scoped>\n",
       "    .dataframe tbody tr th:only-of-type {\n",
       "        vertical-align: middle;\n",
       "    }\n",
       "\n",
       "    .dataframe tbody tr th {\n",
       "        vertical-align: top;\n",
       "    }\n",
       "\n",
       "    .dataframe thead th {\n",
       "        text-align: right;\n",
       "    }\n",
       "</style>\n",
       "<table border=\"1\" class=\"dataframe\">\n",
       "  <thead>\n",
       "    <tr style=\"text-align: right;\">\n",
       "      <th></th>\n",
       "      <th>absolute_magnitude</th>\n",
       "      <th>estimated_diameter_min</th>\n",
       "      <th>estimated_diameter_max</th>\n",
       "      <th>relative_velocity</th>\n",
       "      <th>miss_distance</th>\n",
       "    </tr>\n",
       "  </thead>\n",
       "  <tbody>\n",
       "    <tr>\n",
       "      <th>count</th>\n",
       "      <td>338171.000000</td>\n",
       "      <td>338171.000000</td>\n",
       "      <td>338171.000000</td>\n",
       "      <td>338199.000000</td>\n",
       "      <td>3.381990e+05</td>\n",
       "    </tr>\n",
       "    <tr>\n",
       "      <th>mean</th>\n",
       "      <td>22.932525</td>\n",
       "      <td>0.157812</td>\n",
       "      <td>0.352878</td>\n",
       "      <td>51060.662908</td>\n",
       "      <td>4.153535e+07</td>\n",
       "    </tr>\n",
       "    <tr>\n",
       "      <th>std</th>\n",
       "      <td>2.911216</td>\n",
       "      <td>0.313885</td>\n",
       "      <td>0.701869</td>\n",
       "      <td>26399.238435</td>\n",
       "      <td>2.077399e+07</td>\n",
       "    </tr>\n",
       "    <tr>\n",
       "      <th>min</th>\n",
       "      <td>9.250000</td>\n",
       "      <td>0.000511</td>\n",
       "      <td>0.001143</td>\n",
       "      <td>203.346433</td>\n",
       "      <td>6.745533e+03</td>\n",
       "    </tr>\n",
       "    <tr>\n",
       "      <th>25%</th>\n",
       "      <td>20.740000</td>\n",
       "      <td>0.025384</td>\n",
       "      <td>0.056760</td>\n",
       "      <td>30712.031471</td>\n",
       "      <td>2.494540e+07</td>\n",
       "    </tr>\n",
       "    <tr>\n",
       "      <th>50%</th>\n",
       "      <td>22.800000</td>\n",
       "      <td>0.073207</td>\n",
       "      <td>0.163697</td>\n",
       "      <td>47560.465474</td>\n",
       "      <td>4.332674e+07</td>\n",
       "    </tr>\n",
       "    <tr>\n",
       "      <th>75%</th>\n",
       "      <td>25.100000</td>\n",
       "      <td>0.189041</td>\n",
       "      <td>0.422708</td>\n",
       "      <td>66673.820614</td>\n",
       "      <td>5.933961e+07</td>\n",
       "    </tr>\n",
       "    <tr>\n",
       "      <th>max</th>\n",
       "      <td>33.580000</td>\n",
       "      <td>37.545248</td>\n",
       "      <td>83.953727</td>\n",
       "      <td>291781.106613</td>\n",
       "      <td>7.479865e+07</td>\n",
       "    </tr>\n",
       "  </tbody>\n",
       "</table>\n",
       "</div>"
      ],
      "text/plain": [
       "       absolute_magnitude  estimated_diameter_min  estimated_diameter_max  \\\n",
       "count       338171.000000           338171.000000           338171.000000   \n",
       "mean            22.932525                0.157812                0.352878   \n",
       "std              2.911216                0.313885                0.701869   \n",
       "min              9.250000                0.000511                0.001143   \n",
       "25%             20.740000                0.025384                0.056760   \n",
       "50%             22.800000                0.073207                0.163697   \n",
       "75%             25.100000                0.189041                0.422708   \n",
       "max             33.580000               37.545248               83.953727   \n",
       "\n",
       "       relative_velocity  miss_distance  \n",
       "count      338199.000000   3.381990e+05  \n",
       "mean        51060.662908   4.153535e+07  \n",
       "std         26399.238435   2.077399e+07  \n",
       "min           203.346433   6.745533e+03  \n",
       "25%         30712.031471   2.494540e+07  \n",
       "50%         47560.465474   4.332674e+07  \n",
       "75%         66673.820614   5.933961e+07  \n",
       "max        291781.106613   7.479865e+07  "
      ]
     },
     "execution_count": 20,
     "metadata": {},
     "output_type": "execute_result"
    }
   ],
   "source": [
    "neo.describe()"
   ]
  },
  {
   "cell_type": "code",
   "execution_count": 21,
   "id": "42b0f50368e0a11d",
   "metadata": {
    "ExecuteTime": {
     "end_time": "2024-07-20T06:13:53.250066Z",
     "start_time": "2024-07-20T06:13:47.822818Z"
    },
    "collapsed": false,
    "jupyter": {
     "outputs_hidden": false
    }
   },
   "outputs": [],
   "source": [
    "from sklearn.impute import SimpleImputer\n",
    "#lets impute with mean values\n",
    "columns_to_impute = ['absolute_magnitude', 'estimated_diameter_min', 'estimated_diameter_max']\n",
    "imputer=SimpleImputer(strategy=\"mean\")\n",
    "neo[columns_to_impute] = imputer.fit_transform(neo[columns_to_impute])\n",
    "\n"
   ]
  },
  {
   "cell_type": "code",
   "execution_count": 22,
   "id": "4fe84d1bfb6ca164",
   "metadata": {
    "ExecuteTime": {
     "end_time": "2024-07-20T06:14:03.621803Z",
     "start_time": "2024-07-20T06:14:03.584757Z"
    },
    "collapsed": false,
    "jupyter": {
     "outputs_hidden": false
    }
   },
   "outputs": [
    {
     "data": {
      "text/plain": [
       "absolute_magnitude        338199\n",
       "estimated_diameter_min    338199\n",
       "estimated_diameter_max    338199\n",
       "orbiting_body             338199\n",
       "relative_velocity         338199\n",
       "miss_distance             338199\n",
       "is_hazardous              338199\n",
       "dtype: int64"
      ]
     },
     "execution_count": 22,
     "metadata": {},
     "output_type": "execute_result"
    }
   ],
   "source": [
    "neo.isnull().count()"
   ]
  },
  {
   "cell_type": "code",
   "execution_count": 26,
   "id": "7fff821bfc57e199",
   "metadata": {
    "ExecuteTime": {
     "end_time": "2024-07-20T06:27:17.080591Z",
     "start_time": "2024-07-20T06:27:17.040029Z"
    },
    "collapsed": false,
    "jupyter": {
     "outputs_hidden": false
    }
   },
   "outputs": [
    {
     "name": "stdout",
     "output_type": "stream",
     "text": [
      "<class 'pandas.core.frame.DataFrame'>\n",
      "RangeIndex: 338199 entries, 0 to 338198\n",
      "Data columns (total 8 columns):\n",
      " #   Column                  Non-Null Count   Dtype  \n",
      "---  ------                  --------------   -----  \n",
      " 0   absolute_magnitude      338199 non-null  float64\n",
      " 1   estimated_diameter_min  338199 non-null  float64\n",
      " 2   estimated_diameter_max  338199 non-null  float64\n",
      " 3   orbiting_body           338199 non-null  object \n",
      " 4   relative_velocity       338199 non-null  float64\n",
      " 5   miss_distance           338199 non-null  float64\n",
      " 6   is_hazardous            338199 non-null  bool   \n",
      " 7   is_hazardous_encoded    338199 non-null  int64  \n",
      "dtypes: bool(1), float64(5), int64(1), object(1)\n",
      "memory usage: 18.4+ MB\n"
     ]
    }
   ],
   "source": [
    "neo.info()"
   ]
  },
  {
   "cell_type": "code",
   "execution_count": 24,
   "id": "de1504fcce9783ef",
   "metadata": {
    "ExecuteTime": {
     "end_time": "2024-07-20T06:17:33.236123Z",
     "start_time": "2024-07-20T06:17:33.230300Z"
    },
    "collapsed": false,
    "jupyter": {
     "outputs_hidden": false
    }
   },
   "outputs": [],
   "source": [
    "#as is_hazardous column is dependent categorical column i will use labelencoder to encode categorical column\n",
    "from sklearn.preprocessing import LabelEncoder\n",
    "encoder=LabelEncoder()"
   ]
  },
  {
   "cell_type": "code",
   "execution_count": 25,
   "id": "591c51481fcedd81",
   "metadata": {
    "ExecuteTime": {
     "end_time": "2024-07-20T06:26:09.075135Z",
     "start_time": "2024-07-20T06:26:09.049324Z"
    },
    "collapsed": false,
    "jupyter": {
     "outputs_hidden": false
    }
   },
   "outputs": [],
   "source": [
    "neo['is_hazardous_encoded'] = encoder.fit_transform(neo['is_hazardous'])"
   ]
  },
  {
   "cell_type": "code",
   "execution_count": 28,
   "id": "5ca57b0f486c4b98",
   "metadata": {
    "ExecuteTime": {
     "end_time": "2024-07-20T06:28:48.279361Z",
     "start_time": "2024-07-20T06:28:48.253055Z"
    },
    "collapsed": false,
    "jupyter": {
     "outputs_hidden": false
    }
   },
   "outputs": [
    {
     "data": {
      "text/html": [
       "<div>\n",
       "<style scoped>\n",
       "    .dataframe tbody tr th:only-of-type {\n",
       "        vertical-align: middle;\n",
       "    }\n",
       "\n",
       "    .dataframe tbody tr th {\n",
       "        vertical-align: top;\n",
       "    }\n",
       "\n",
       "    .dataframe thead th {\n",
       "        text-align: right;\n",
       "    }\n",
       "</style>\n",
       "<table border=\"1\" class=\"dataframe\">\n",
       "  <thead>\n",
       "    <tr style=\"text-align: right;\">\n",
       "      <th></th>\n",
       "      <th>is_hazardous_encoded</th>\n",
       "      <th>is_hazardous</th>\n",
       "    </tr>\n",
       "  </thead>\n",
       "  <tbody>\n",
       "    <tr>\n",
       "      <th>0</th>\n",
       "      <td>0</td>\n",
       "      <td>False</td>\n",
       "    </tr>\n",
       "    <tr>\n",
       "      <th>1</th>\n",
       "      <td>1</td>\n",
       "      <td>True</td>\n",
       "    </tr>\n",
       "    <tr>\n",
       "      <th>2</th>\n",
       "      <td>0</td>\n",
       "      <td>False</td>\n",
       "    </tr>\n",
       "    <tr>\n",
       "      <th>3</th>\n",
       "      <td>0</td>\n",
       "      <td>False</td>\n",
       "    </tr>\n",
       "    <tr>\n",
       "      <th>4</th>\n",
       "      <td>0</td>\n",
       "      <td>False</td>\n",
       "    </tr>\n",
       "    <tr>\n",
       "      <th>...</th>\n",
       "      <td>...</td>\n",
       "      <td>...</td>\n",
       "    </tr>\n",
       "    <tr>\n",
       "      <th>338194</th>\n",
       "      <td>0</td>\n",
       "      <td>False</td>\n",
       "    </tr>\n",
       "    <tr>\n",
       "      <th>338195</th>\n",
       "      <td>0</td>\n",
       "      <td>False</td>\n",
       "    </tr>\n",
       "    <tr>\n",
       "      <th>338196</th>\n",
       "      <td>0</td>\n",
       "      <td>False</td>\n",
       "    </tr>\n",
       "    <tr>\n",
       "      <th>338197</th>\n",
       "      <td>0</td>\n",
       "      <td>False</td>\n",
       "    </tr>\n",
       "    <tr>\n",
       "      <th>338198</th>\n",
       "      <td>0</td>\n",
       "      <td>False</td>\n",
       "    </tr>\n",
       "  </tbody>\n",
       "</table>\n",
       "<p>338199 rows × 2 columns</p>\n",
       "</div>"
      ],
      "text/plain": [
       "        is_hazardous_encoded  is_hazardous\n",
       "0                          0         False\n",
       "1                          1          True\n",
       "2                          0         False\n",
       "3                          0         False\n",
       "4                          0         False\n",
       "...                      ...           ...\n",
       "338194                     0         False\n",
       "338195                     0         False\n",
       "338196                     0         False\n",
       "338197                     0         False\n",
       "338198                     0         False\n",
       "\n",
       "[338199 rows x 2 columns]"
      ]
     },
     "execution_count": 28,
     "metadata": {},
     "output_type": "execute_result"
    }
   ],
   "source": [
    "neo[['is_hazardous_encoded','is_hazardous']]"
   ]
  },
  {
   "cell_type": "code",
   "execution_count": 30,
   "id": "e559c3bd189e4e26",
   "metadata": {
    "ExecuteTime": {
     "end_time": "2024-07-20T06:31:31.239858Z",
     "start_time": "2024-07-20T06:31:31.210364Z"
    },
    "collapsed": false,
    "jupyter": {
     "outputs_hidden": false
    }
   },
   "outputs": [],
   "source": [
    "neo=neo.drop(columns=['is_hazardous'])"
   ]
  },
  {
   "cell_type": "code",
   "execution_count": 31,
   "id": "456fda20ed0f7615",
   "metadata": {
    "ExecuteTime": {
     "end_time": "2024-07-20T06:32:53.644Z",
     "start_time": "2024-07-20T06:32:53.622948Z"
    },
    "collapsed": false,
    "jupyter": {
     "outputs_hidden": false
    }
   },
   "outputs": [
    {
     "data": {
      "text/html": [
       "<div>\n",
       "<style scoped>\n",
       "    .dataframe tbody tr th:only-of-type {\n",
       "        vertical-align: middle;\n",
       "    }\n",
       "\n",
       "    .dataframe tbody tr th {\n",
       "        vertical-align: top;\n",
       "    }\n",
       "\n",
       "    .dataframe thead th {\n",
       "        text-align: right;\n",
       "    }\n",
       "</style>\n",
       "<table border=\"1\" class=\"dataframe\">\n",
       "  <thead>\n",
       "    <tr style=\"text-align: right;\">\n",
       "      <th></th>\n",
       "      <th>absolute_magnitude</th>\n",
       "      <th>estimated_diameter_min</th>\n",
       "      <th>estimated_diameter_max</th>\n",
       "      <th>orbiting_body</th>\n",
       "      <th>relative_velocity</th>\n",
       "      <th>miss_distance</th>\n",
       "      <th>is_hazardous_encoded</th>\n",
       "    </tr>\n",
       "  </thead>\n",
       "  <tbody>\n",
       "    <tr>\n",
       "      <th>0</th>\n",
       "      <td>19.14</td>\n",
       "      <td>0.394962</td>\n",
       "      <td>0.883161</td>\n",
       "      <td>Earth</td>\n",
       "      <td>71745.401048</td>\n",
       "      <td>5.814362e+07</td>\n",
       "      <td>0</td>\n",
       "    </tr>\n",
       "    <tr>\n",
       "      <th>1</th>\n",
       "      <td>18.50</td>\n",
       "      <td>0.530341</td>\n",
       "      <td>1.185878</td>\n",
       "      <td>Earth</td>\n",
       "      <td>109949.757148</td>\n",
       "      <td>5.580105e+07</td>\n",
       "      <td>1</td>\n",
       "    </tr>\n",
       "    <tr>\n",
       "      <th>2</th>\n",
       "      <td>21.45</td>\n",
       "      <td>0.136319</td>\n",
       "      <td>0.304818</td>\n",
       "      <td>Earth</td>\n",
       "      <td>24865.506798</td>\n",
       "      <td>6.720689e+07</td>\n",
       "      <td>0</td>\n",
       "    </tr>\n",
       "    <tr>\n",
       "      <th>3</th>\n",
       "      <td>20.63</td>\n",
       "      <td>0.198863</td>\n",
       "      <td>0.444672</td>\n",
       "      <td>Earth</td>\n",
       "      <td>78890.076805</td>\n",
       "      <td>3.039644e+07</td>\n",
       "      <td>0</td>\n",
       "    </tr>\n",
       "    <tr>\n",
       "      <th>4</th>\n",
       "      <td>22.70</td>\n",
       "      <td>0.076658</td>\n",
       "      <td>0.171412</td>\n",
       "      <td>Earth</td>\n",
       "      <td>56036.519484</td>\n",
       "      <td>6.311863e+07</td>\n",
       "      <td>0</td>\n",
       "    </tr>\n",
       "  </tbody>\n",
       "</table>\n",
       "</div>"
      ],
      "text/plain": [
       "   absolute_magnitude  estimated_diameter_min  estimated_diameter_max  \\\n",
       "0               19.14                0.394962                0.883161   \n",
       "1               18.50                0.530341                1.185878   \n",
       "2               21.45                0.136319                0.304818   \n",
       "3               20.63                0.198863                0.444672   \n",
       "4               22.70                0.076658                0.171412   \n",
       "\n",
       "  orbiting_body  relative_velocity  miss_distance  is_hazardous_encoded  \n",
       "0         Earth       71745.401048   5.814362e+07                     0  \n",
       "1         Earth      109949.757148   5.580105e+07                     1  \n",
       "2         Earth       24865.506798   6.720689e+07                     0  \n",
       "3         Earth       78890.076805   3.039644e+07                     0  \n",
       "4         Earth       56036.519484   6.311863e+07                     0  "
      ]
     },
     "execution_count": 31,
     "metadata": {},
     "output_type": "execute_result"
    }
   ],
   "source": [
    "neo.head()"
   ]
  },
  {
   "cell_type": "code",
   "execution_count": 32,
   "id": "28ae81ddd7e85e12",
   "metadata": {
    "ExecuteTime": {
     "end_time": "2024-07-20T06:34:18.227093Z",
     "start_time": "2024-07-20T06:34:18.180672Z"
    },
    "collapsed": false,
    "jupyter": {
     "outputs_hidden": false
    }
   },
   "outputs": [
    {
     "data": {
      "text/plain": [
       "orbiting_body\n",
       "Earth    338199\n",
       "Name: count, dtype: int64"
      ]
     },
     "execution_count": 32,
     "metadata": {},
     "output_type": "execute_result"
    }
   ],
   "source": [
    "neo['orbiting_body'].value_counts()"
   ]
  },
  {
   "cell_type": "code",
   "execution_count": 33,
   "id": "f5cf33c9dd4b1e37",
   "metadata": {
    "ExecuteTime": {
     "end_time": "2024-07-20T06:36:01.058714Z",
     "start_time": "2024-07-20T06:36:01.038209Z"
    },
    "collapsed": false,
    "jupyter": {
     "outputs_hidden": false
    }
   },
   "outputs": [],
   "source": []
  },
  {
   "cell_type": "code",
   "execution_count": 34,
   "id": "603a96acc96102a5",
   "metadata": {
    "ExecuteTime": {
     "end_time": "2024-07-20T06:36:12.420449Z",
     "start_time": "2024-07-20T06:36:12.399598Z"
    },
    "collapsed": false,
    "jupyter": {
     "outputs_hidden": false
    }
   },
   "outputs": [
    {
     "name": "stdout",
     "output_type": "stream",
     "text": [
      "<class 'pandas.core.frame.DataFrame'>\n",
      "RangeIndex: 338199 entries, 0 to 338198\n",
      "Data columns (total 6 columns):\n",
      " #   Column                  Non-Null Count   Dtype  \n",
      "---  ------                  --------------   -----  \n",
      " 0   absolute_magnitude      338199 non-null  float64\n",
      " 1   estimated_diameter_min  338199 non-null  float64\n",
      " 2   estimated_diameter_max  338199 non-null  float64\n",
      " 3   relative_velocity       338199 non-null  float64\n",
      " 4   miss_distance           338199 non-null  float64\n",
      " 5   is_hazardous_encoded    338199 non-null  int64  \n",
      "dtypes: float64(5), int64(1)\n",
      "memory usage: 15.5 MB\n"
     ]
    }
   ],
   "source": [
    "neo.info()"
   ]
  },
  {
   "cell_type": "code",
   "execution_count": 35,
   "id": "96b42c6d3672a2bc",
   "metadata": {
    "ExecuteTime": {
     "end_time": "2024-07-20T06:37:04.510305Z",
     "start_time": "2024-07-20T06:37:04.494243Z"
    },
    "collapsed": false,
    "jupyter": {
     "outputs_hidden": false
    }
   },
   "outputs": [
    {
     "data": {
      "text/html": [
       "<div>\n",
       "<style scoped>\n",
       "    .dataframe tbody tr th:only-of-type {\n",
       "        vertical-align: middle;\n",
       "    }\n",
       "\n",
       "    .dataframe tbody tr th {\n",
       "        vertical-align: top;\n",
       "    }\n",
       "\n",
       "    .dataframe thead th {\n",
       "        text-align: right;\n",
       "    }\n",
       "</style>\n",
       "<table border=\"1\" class=\"dataframe\">\n",
       "  <thead>\n",
       "    <tr style=\"text-align: right;\">\n",
       "      <th></th>\n",
       "      <th>absolute_magnitude</th>\n",
       "      <th>estimated_diameter_min</th>\n",
       "      <th>estimated_diameter_max</th>\n",
       "      <th>relative_velocity</th>\n",
       "      <th>miss_distance</th>\n",
       "      <th>is_hazardous_encoded</th>\n",
       "    </tr>\n",
       "  </thead>\n",
       "  <tbody>\n",
       "    <tr>\n",
       "      <th>0</th>\n",
       "      <td>19.14</td>\n",
       "      <td>0.394962</td>\n",
       "      <td>0.883161</td>\n",
       "      <td>71745.401048</td>\n",
       "      <td>5.814362e+07</td>\n",
       "      <td>0</td>\n",
       "    </tr>\n",
       "    <tr>\n",
       "      <th>1</th>\n",
       "      <td>18.50</td>\n",
       "      <td>0.530341</td>\n",
       "      <td>1.185878</td>\n",
       "      <td>109949.757148</td>\n",
       "      <td>5.580105e+07</td>\n",
       "      <td>1</td>\n",
       "    </tr>\n",
       "    <tr>\n",
       "      <th>2</th>\n",
       "      <td>21.45</td>\n",
       "      <td>0.136319</td>\n",
       "      <td>0.304818</td>\n",
       "      <td>24865.506798</td>\n",
       "      <td>6.720689e+07</td>\n",
       "      <td>0</td>\n",
       "    </tr>\n",
       "    <tr>\n",
       "      <th>3</th>\n",
       "      <td>20.63</td>\n",
       "      <td>0.198863</td>\n",
       "      <td>0.444672</td>\n",
       "      <td>78890.076805</td>\n",
       "      <td>3.039644e+07</td>\n",
       "      <td>0</td>\n",
       "    </tr>\n",
       "    <tr>\n",
       "      <th>4</th>\n",
       "      <td>22.70</td>\n",
       "      <td>0.076658</td>\n",
       "      <td>0.171412</td>\n",
       "      <td>56036.519484</td>\n",
       "      <td>6.311863e+07</td>\n",
       "      <td>0</td>\n",
       "    </tr>\n",
       "  </tbody>\n",
       "</table>\n",
       "</div>"
      ],
      "text/plain": [
       "   absolute_magnitude  estimated_diameter_min  estimated_diameter_max  \\\n",
       "0               19.14                0.394962                0.883161   \n",
       "1               18.50                0.530341                1.185878   \n",
       "2               21.45                0.136319                0.304818   \n",
       "3               20.63                0.198863                0.444672   \n",
       "4               22.70                0.076658                0.171412   \n",
       "\n",
       "   relative_velocity  miss_distance  is_hazardous_encoded  \n",
       "0       71745.401048   5.814362e+07                     0  \n",
       "1      109949.757148   5.580105e+07                     1  \n",
       "2       24865.506798   6.720689e+07                     0  \n",
       "3       78890.076805   3.039644e+07                     0  \n",
       "4       56036.519484   6.311863e+07                     0  "
      ]
     },
     "execution_count": 35,
     "metadata": {},
     "output_type": "execute_result"
    }
   ],
   "source": [
    "neo.head()"
   ]
  },
  {
   "cell_type": "code",
   "execution_count": 36,
   "id": "52f8a6c17e0ed8a3",
   "metadata": {
    "ExecuteTime": {
     "end_time": "2024-07-20T06:49:23.138698Z",
     "start_time": "2024-07-20T06:49:23.109581Z"
    },
    "collapsed": false,
    "jupyter": {
     "outputs_hidden": false
    }
   },
   "outputs": [],
   "source": [
    "correlation_matrix=neo.corr()"
   ]
  },
  {
   "cell_type": "code",
   "execution_count": 37,
   "id": "a2045e6f10acdf40",
   "metadata": {
    "ExecuteTime": {
     "end_time": "2024-07-20T06:49:29.168622Z",
     "start_time": "2024-07-20T06:49:29.160227Z"
    },
    "collapsed": false,
    "jupyter": {
     "outputs_hidden": false
    }
   },
   "outputs": [
    {
     "data": {
      "text/html": [
       "<div>\n",
       "<style scoped>\n",
       "    .dataframe tbody tr th:only-of-type {\n",
       "        vertical-align: middle;\n",
       "    }\n",
       "\n",
       "    .dataframe tbody tr th {\n",
       "        vertical-align: top;\n",
       "    }\n",
       "\n",
       "    .dataframe thead th {\n",
       "        text-align: right;\n",
       "    }\n",
       "</style>\n",
       "<table border=\"1\" class=\"dataframe\">\n",
       "  <thead>\n",
       "    <tr style=\"text-align: right;\">\n",
       "      <th></th>\n",
       "      <th>absolute_magnitude</th>\n",
       "      <th>estimated_diameter_min</th>\n",
       "      <th>estimated_diameter_max</th>\n",
       "      <th>relative_velocity</th>\n",
       "      <th>miss_distance</th>\n",
       "      <th>is_hazardous_encoded</th>\n",
       "    </tr>\n",
       "  </thead>\n",
       "  <tbody>\n",
       "    <tr>\n",
       "      <th>absolute_magnitude</th>\n",
       "      <td>1.000000</td>\n",
       "      <td>-0.594646</td>\n",
       "      <td>-0.594646</td>\n",
       "      <td>-0.345564</td>\n",
       "      <td>-0.213516</td>\n",
       "      <td>-0.343994</td>\n",
       "    </tr>\n",
       "    <tr>\n",
       "      <th>estimated_diameter_min</th>\n",
       "      <td>-0.594646</td>\n",
       "      <td>1.000000</td>\n",
       "      <td>1.000000</td>\n",
       "      <td>0.222430</td>\n",
       "      <td>0.111471</td>\n",
       "      <td>0.164840</td>\n",
       "    </tr>\n",
       "    <tr>\n",
       "      <th>estimated_diameter_max</th>\n",
       "      <td>-0.594646</td>\n",
       "      <td>1.000000</td>\n",
       "      <td>1.000000</td>\n",
       "      <td>0.222430</td>\n",
       "      <td>0.111471</td>\n",
       "      <td>0.164840</td>\n",
       "    </tr>\n",
       "    <tr>\n",
       "      <th>relative_velocity</th>\n",
       "      <td>-0.345564</td>\n",
       "      <td>0.222430</td>\n",
       "      <td>0.222430</td>\n",
       "      <td>1.000000</td>\n",
       "      <td>0.322587</td>\n",
       "      <td>0.187021</td>\n",
       "    </tr>\n",
       "    <tr>\n",
       "      <th>miss_distance</th>\n",
       "      <td>-0.213516</td>\n",
       "      <td>0.111471</td>\n",
       "      <td>0.111471</td>\n",
       "      <td>0.322587</td>\n",
       "      <td>1.000000</td>\n",
       "      <td>-0.006540</td>\n",
       "    </tr>\n",
       "    <tr>\n",
       "      <th>is_hazardous_encoded</th>\n",
       "      <td>-0.343994</td>\n",
       "      <td>0.164840</td>\n",
       "      <td>0.164840</td>\n",
       "      <td>0.187021</td>\n",
       "      <td>-0.006540</td>\n",
       "      <td>1.000000</td>\n",
       "    </tr>\n",
       "  </tbody>\n",
       "</table>\n",
       "</div>"
      ],
      "text/plain": [
       "                        absolute_magnitude  estimated_diameter_min  \\\n",
       "absolute_magnitude                1.000000               -0.594646   \n",
       "estimated_diameter_min           -0.594646                1.000000   \n",
       "estimated_diameter_max           -0.594646                1.000000   \n",
       "relative_velocity                -0.345564                0.222430   \n",
       "miss_distance                    -0.213516                0.111471   \n",
       "is_hazardous_encoded             -0.343994                0.164840   \n",
       "\n",
       "                        estimated_diameter_max  relative_velocity  \\\n",
       "absolute_magnitude                   -0.594646          -0.345564   \n",
       "estimated_diameter_min                1.000000           0.222430   \n",
       "estimated_diameter_max                1.000000           0.222430   \n",
       "relative_velocity                     0.222430           1.000000   \n",
       "miss_distance                         0.111471           0.322587   \n",
       "is_hazardous_encoded                  0.164840           0.187021   \n",
       "\n",
       "                        miss_distance  is_hazardous_encoded  \n",
       "absolute_magnitude          -0.213516             -0.343994  \n",
       "estimated_diameter_min       0.111471              0.164840  \n",
       "estimated_diameter_max       0.111471              0.164840  \n",
       "relative_velocity            0.322587              0.187021  \n",
       "miss_distance                1.000000             -0.006540  \n",
       "is_hazardous_encoded        -0.006540              1.000000  "
      ]
     },
     "execution_count": 37,
     "metadata": {},
     "output_type": "execute_result"
    }
   ],
   "source": [
    "correlation_matrix"
   ]
  },
  {
   "cell_type": "code",
   "execution_count": 38,
   "id": "e7496ef17db0586d",
   "metadata": {
    "ExecuteTime": {
     "end_time": "2024-07-20T06:53:50.864382Z",
     "start_time": "2024-07-20T06:53:46.433185Z"
    },
    "collapsed": false,
    "jupyter": {
     "outputs_hidden": false
    }
   },
   "outputs": [
    {
     "data": {
      "image/png": "[encoded data removed]",
      "text/plain": [
       "<Figure size 800x600 with 2 Axes>"
      ]
     },
     "metadata": {},
     "output_type": "display_data"
    },
    {
     "name": "stdout",
     "output_type": "stream",
     "text": [
      "Saving figure correlation_matrix\n"
     ]
    },
    {
     "data": {
      "text/plain": [
       "<Figure size 640x480 with 0 Axes>"
      ]
     },
     "metadata": {},
     "output_type": "display_data"
    }
   ],
   "source": [
    "plt.figure(figsize=(8, 6))\n",
    "sns.heatmap(\n",
    "    correlation_matrix, \n",
    "    annot=True,            \n",
    "    cmap='coolwarm',       \n",
    "    vmin=-1, vmax=1,      \n",
    "    linewidths=0.5,        \n",
    "    linecolor='black',     \n",
    "    square=True,           \n",
    "    cbar=True,            \n",
    "    cbar_kws={'label': 'Correlation Coefficient'}  \n",
    ")\n",
    "plt.title('Correlation Matrix Heatmap with Annotations')\n",
    "plt.show()\n",
    "save_fig('correlation_matrix')"
   ]
  },
  {
   "cell_type": "code",
   "execution_count": null,
   "id": "b2b397ef5a7d3f17",
   "metadata": {
    "ExecuteTime": {
     "end_time": "2024-07-20T07:03:44.465360Z",
     "start_time": "2024-07-20T07:03:44.425617Z"
    },
    "collapsed": false,
    "jupyter": {
     "outputs_hidden": false
    }
   },
   "outputs": [],
   "source": [
    "neo['average_diameter'] = (neo['estimated_diameter_min'] + neo['estimated_diameter_max']) / 2\n",
    "\n",
    "\n",
    "neo.drop(['estimated_diameter_min', 'estimated_diameter_max'], axis=1, inplace=True)\n"
   ]
  },
  {
   "cell_type": "code",
   "execution_count": 42,
   "id": "720d01173077e7c8",
   "metadata": {
    "ExecuteTime": {
     "end_time": "2024-07-20T07:04:29.584998Z",
     "start_time": "2024-07-20T07:04:29.557085Z"
    },
    "collapsed": false,
    "jupyter": {
     "outputs_hidden": false
    }
   },
   "outputs": [],
   "source": [
    "new_correlation_matrix=neo.corr()"
   ]
  },
  {
   "cell_type": "code",
   "execution_count": 43,
   "id": "7144bcb4e1c52ba3",
   "metadata": {
    "ExecuteTime": {
     "end_time": "2024-07-20T07:04:52.258292Z",
     "start_time": "2024-07-20T07:04:52.064686Z"
    },
    "collapsed": false,
    "jupyter": {
     "outputs_hidden": false
    }
   },
   "outputs": [
    {
     "data": {
      "image/png": "[encoded data removed]",
      "text/plain": [
       "<Figure size 800x600 with 2 Axes>"
      ]
     },
     "metadata": {},
     "output_type": "display_data"
    }
   ],
   "source": [
    "plt.figure(figsize=(8, 6))\n",
    "sns.heatmap(\n",
    "    new_correlation_matrix, \n",
    "    annot=True,            \n",
    "    cmap='coolwarm',       \n",
    "    vmin=-1, vmax=1,      \n",
    "    linewidths=0.5,        \n",
    "    linecolor='black',     \n",
    "    square=True,           \n",
    "    cbar=True,            \n",
    "    cbar_kws={'label': 'Correlation Coefficient'}  \n",
    ")\n",
    "plt.title(' better Correlation Matrix Heatmap with Annotations after merging')\n",
    "plt.show()"
   ]
  },
  {
   "cell_type": "code",
   "execution_count": 44,
   "id": "a92531d1de10162a",
   "metadata": {
    "ExecuteTime": {
     "end_time": "2024-07-20T07:11:30.872478Z",
     "start_time": "2024-07-20T07:11:30.863327Z"
    },
    "collapsed": false,
    "jupyter": {
     "outputs_hidden": false
    }
   },
   "outputs": [
    {
     "name": "stdout",
     "output_type": "stream",
     "text": [
      "<class 'pandas.core.frame.DataFrame'>\n",
      "RangeIndex: 338199 entries, 0 to 338198\n",
      "Data columns (total 5 columns):\n",
      " #   Column                Non-Null Count   Dtype  \n",
      "---  ------                --------------   -----  \n",
      " 0   absolute_magnitude    338199 non-null  float64\n",
      " 1   relative_velocity     338199 non-null  float64\n",
      " 2   miss_distance         338199 non-null  float64\n",
      " 3   is_hazardous_encoded  338199 non-null  int64  \n",
      " 4   average_diameter      338199 non-null  float64\n",
      "dtypes: float64(4), int64(1)\n",
      "memory usage: 12.9 MB\n"
     ]
    }
   ],
   "source": [
    "neo.info()"
   ]
  },
  {
   "cell_type": "code",
   "execution_count": 45,
   "id": "537dbd6201120c34",
   "metadata": {
    "ExecuteTime": {
     "end_time": "2024-07-20T07:18:49.036357Z",
     "start_time": "2024-07-20T07:18:49.001030Z"
    },
    "collapsed": false,
    "jupyter": {
     "outputs_hidden": false
    }
   },
   "outputs": [],
   "source": [
    "#Z score is way to detect outliers  if Z score is above 3 or less than -3 indicates potential outliers\n",
    "# Select numerical columns\n",
    "numerical_cols = ['absolute_magnitude', 'relative_velocity', 'miss_distance', 'average_diameter']\n",
    "\n",
    "# Calculating Z-scores for each numerical column\n",
    "for col in numerical_cols:\n",
    "    neo[f'{col}_zscore'] = (neo[col] - neo[col].mean()) / neo[col].std()\n"
   ]
  },
  {
   "cell_type": "code",
   "execution_count": 46,
   "id": "3ba56a539706ea5b",
   "metadata": {
    "ExecuteTime": {
     "end_time": "2024-07-20T07:19:39.634043Z",
     "start_time": "2024-07-20T07:19:36.735459Z"
    },
    "collapsed": false,
    "jupyter": {
     "outputs_hidden": false
    }
   },
   "outputs": [
    {
     "data": {
      "image/png": "[encoded data removed]",
      "text/plain": [
       "<Figure size 1200x400 with 2 Axes>"
      ]
     },
     "metadata": {},
     "output_type": "display_data"
    },
    {
     "data": {
      "image/png": "[encoded data removed]",
      "text/plain": [
       "<Figure size 1200x400 with 2 Axes>"
      ]
     },
     "metadata": {},
     "output_type": "display_data"
    },
    {
     "data": {
      "image/png": "[encoded data removed]",
      "text/plain": [
       "<Figure size 1200x400 with 2 Axes>"
      ]
     },
     "metadata": {},
     "output_type": "display_data"
    },
    {
     "data": {
      "image/png": "[encoded data removed]",
      "text/plain": [
       "<Figure size 1200x400 with 2 Axes>"
      ]
     },
     "metadata": {},
     "output_type": "display_data"
    }
   ],
   "source": [
    "# Function to plot histograms and boxplots\n",
    "def plot_zscores(data, column):\n",
    "    plt.figure(figsize=(12, 4))\n",
    "\n",
    "    # Histogram\n",
    "    plt.subplot(1, 2, 1)\n",
    "    sns.histplot(data[f'{column}_zscore'], bins=30)\n",
    "    plt.title(f'Histogram of Z-scores for {column}')\n",
    "    plt.xlabel('Z-score')\n",
    "    plt.ylabel('Count')\n",
    "\n",
    "    # Boxplot\n",
    "    plt.subplot(1, 2, 2)\n",
    "    sns.boxplot(x=data[f'{column}_zscore'])\n",
    "    plt.title(f'Boxplot of Z-scores for {column}')\n",
    "    plt.show()\n",
    "\n",
    "# Plot Z-scores for each numerical column\n",
    "for col in numerical_cols:\n",
    "    plot_zscores(neo, col)\n"
   ]
  },
  {
   "cell_type": "code",
   "execution_count": 47,
   "id": "77544b13523f2006",
   "metadata": {
    "ExecuteTime": {
     "end_time": "2024-07-20T07:37:30.834457Z",
     "start_time": "2024-07-20T07:37:30.822007Z"
    },
    "collapsed": false,
    "jupyter": {
     "outputs_hidden": false
    }
   },
   "outputs": [
    {
     "name": "stdout",
     "output_type": "stream",
     "text": [
      "<class 'pandas.core.frame.DataFrame'>\n",
      "RangeIndex: 338199 entries, 0 to 338198\n",
      "Data columns (total 9 columns):\n",
      " #   Column                     Non-Null Count   Dtype  \n",
      "---  ------                     --------------   -----  \n",
      " 0   absolute_magnitude         338199 non-null  float64\n",
      " 1   relative_velocity          338199 non-null  float64\n",
      " 2   miss_distance              338199 non-null  float64\n",
      " 3   is_hazardous_encoded       338199 non-null  int64  \n",
      " 4   average_diameter           338199 non-null  float64\n",
      " 5   absolute_magnitude_zscore  338199 non-null  float64\n",
      " 6   relative_velocity_zscore   338199 non-null  float64\n",
      " 7   miss_distance_zscore       338199 non-null  float64\n",
      " 8   average_diameter_zscore    338199 non-null  float64\n",
      "dtypes: float64(8), int64(1)\n",
      "memory usage: 23.2 MB\n"
     ]
    }
   ],
   "source": [
    "neo.info()"
   ]
  },
  {
   "cell_type": "code",
   "execution_count": 48,
   "id": "1e3dbde98e42c4a5",
   "metadata": {
    "ExecuteTime": {
     "end_time": "2024-07-20T07:55:25.734056Z",
     "start_time": "2024-07-20T07:55:25.722173Z"
    },
    "collapsed": false,
    "jupyter": {
     "outputs_hidden": false
    }
   },
   "outputs": [
    {
     "data": {
      "text/html": [
       "<div>\n",
       "<style scoped>\n",
       "    .dataframe tbody tr th:only-of-type {\n",
       "        vertical-align: middle;\n",
       "    }\n",
       "\n",
       "    .dataframe tbody tr th {\n",
       "        vertical-align: top;\n",
       "    }\n",
       "\n",
       "    .dataframe thead th {\n",
       "        text-align: right;\n",
       "    }\n",
       "</style>\n",
       "<table border=\"1\" class=\"dataframe\">\n",
       "  <thead>\n",
       "    <tr style=\"text-align: right;\">\n",
       "      <th></th>\n",
       "      <th>absolute_magnitude</th>\n",
       "      <th>relative_velocity</th>\n",
       "      <th>miss_distance</th>\n",
       "      <th>is_hazardous_encoded</th>\n",
       "      <th>average_diameter</th>\n",
       "      <th>absolute_magnitude_zscore</th>\n",
       "      <th>relative_velocity_zscore</th>\n",
       "      <th>miss_distance_zscore</th>\n",
       "      <th>average_diameter_zscore</th>\n",
       "    </tr>\n",
       "  </thead>\n",
       "  <tbody>\n",
       "    <tr>\n",
       "      <th>0</th>\n",
       "      <td>19.14</td>\n",
       "      <td>71745.401048</td>\n",
       "      <td>5.814362e+07</td>\n",
       "      <td>0</td>\n",
       "      <td>0.639061</td>\n",
       "      <td>-1.302783</td>\n",
       "      <td>0.783535</td>\n",
       "      <td>0.799474</td>\n",
       "      <td>0.755561</td>\n",
       "    </tr>\n",
       "    <tr>\n",
       "      <th>1</th>\n",
       "      <td>18.50</td>\n",
       "      <td>109949.757148</td>\n",
       "      <td>5.580105e+07</td>\n",
       "      <td>1</td>\n",
       "      <td>0.858109</td>\n",
       "      <td>-1.522631</td>\n",
       "      <td>2.230712</td>\n",
       "      <td>0.686710</td>\n",
       "      <td>1.186880</td>\n",
       "    </tr>\n",
       "    <tr>\n",
       "      <th>2</th>\n",
       "      <td>21.45</td>\n",
       "      <td>24865.506798</td>\n",
       "      <td>6.720689e+07</td>\n",
       "      <td>0</td>\n",
       "      <td>0.220568</td>\n",
       "      <td>-0.509267</td>\n",
       "      <td>-0.992269</td>\n",
       "      <td>1.235754</td>\n",
       "      <td>-0.068478</td>\n",
       "    </tr>\n",
       "    <tr>\n",
       "      <th>3</th>\n",
       "      <td>20.63</td>\n",
       "      <td>78890.076805</td>\n",
       "      <td>3.039644e+07</td>\n",
       "      <td>0</td>\n",
       "      <td>0.321768</td>\n",
       "      <td>-0.790948</td>\n",
       "      <td>1.054175</td>\n",
       "      <td>-0.536195</td>\n",
       "      <td>0.130790</td>\n",
       "    </tr>\n",
       "    <tr>\n",
       "      <th>4</th>\n",
       "      <td>22.70</td>\n",
       "      <td>56036.519484</td>\n",
       "      <td>6.311863e+07</td>\n",
       "      <td>0</td>\n",
       "      <td>0.124035</td>\n",
       "      <td>-0.079875</td>\n",
       "      <td>0.188485</td>\n",
       "      <td>1.038957</td>\n",
       "      <td>-0.258559</td>\n",
       "    </tr>\n",
       "    <tr>\n",
       "      <th>5</th>\n",
       "      <td>25.00</td>\n",
       "      <td>47477.649832</td>\n",
       "      <td>4.290521e+07</td>\n",
       "      <td>0</td>\n",
       "      <td>0.043007</td>\n",
       "      <td>0.710205</td>\n",
       "      <td>-0.135724</td>\n",
       "      <td>0.065941</td>\n",
       "      <td>-0.418107</td>\n",
       "    </tr>\n",
       "    <tr>\n",
       "      <th>6</th>\n",
       "      <td>21.50</td>\n",
       "      <td>57853.295346</td>\n",
       "      <td>2.727908e+07</td>\n",
       "      <td>1</td>\n",
       "      <td>0.215547</td>\n",
       "      <td>-0.492091</td>\n",
       "      <td>0.257304</td>\n",
       "      <td>-0.686256</td>\n",
       "      <td>-0.078365</td>\n",
       "    </tr>\n",
       "    <tr>\n",
       "      <th>7</th>\n",
       "      <td>19.75</td>\n",
       "      <td>46972.486794</td>\n",
       "      <td>6.997593e+07</td>\n",
       "      <td>0</td>\n",
       "      <td>0.482550</td>\n",
       "      <td>-1.093239</td>\n",
       "      <td>-0.154860</td>\n",
       "      <td>1.369048</td>\n",
       "      <td>0.447381</td>\n",
       "    </tr>\n",
       "    <tr>\n",
       "      <th>8</th>\n",
       "      <td>21.70</td>\n",
       "      <td>37424.548382</td>\n",
       "      <td>5.657727e+06</td>\n",
       "      <td>1</td>\n",
       "      <td>0.196581</td>\n",
       "      <td>-0.423389</td>\n",
       "      <td>-0.516534</td>\n",
       "      <td>-1.727045</td>\n",
       "      <td>-0.115710</td>\n",
       "    </tr>\n",
       "    <tr>\n",
       "      <th>9</th>\n",
       "      <td>23.45</td>\n",
       "      <td>38524.867869</td>\n",
       "      <td>6.166118e+07</td>\n",
       "      <td>0</td>\n",
       "      <td>0.087810</td>\n",
       "      <td>0.177760</td>\n",
       "      <td>-0.474854</td>\n",
       "      <td>0.968800</td>\n",
       "      <td>-0.329888</td>\n",
       "    </tr>\n",
       "  </tbody>\n",
       "</table>\n",
       "</div>"
      ],
      "text/plain": [
       "   absolute_magnitude  relative_velocity  miss_distance  is_hazardous_encoded  \\\n",
       "0               19.14       71745.401048   5.814362e+07                     0   \n",
       "1               18.50      109949.757148   5.580105e+07                     1   \n",
       "2               21.45       24865.506798   6.720689e+07                     0   \n",
       "3               20.63       78890.076805   3.039644e+07                     0   \n",
       "4               22.70       56036.519484   6.311863e+07                     0   \n",
       "5               25.00       47477.649832   4.290521e+07                     0   \n",
       "6               21.50       57853.295346   2.727908e+07                     1   \n",
       "7               19.75       46972.486794   6.997593e+07                     0   \n",
       "8               21.70       37424.548382   5.657727e+06                     1   \n",
       "9               23.45       38524.867869   6.166118e+07                     0   \n",
       "\n",
       "   average_diameter  absolute_magnitude_zscore  relative_velocity_zscore  \\\n",
       "0          0.639061                  -1.302783                  0.783535   \n",
       "1          0.858109                  -1.522631                  2.230712   \n",
       "2          0.220568                  -0.509267                 -0.992269   \n",
       "3          0.321768                  -0.790948                  1.054175   \n",
       "4          0.124035                  -0.079875                  0.188485   \n",
       "5          0.043007                   0.710205                 -0.135724   \n",
       "6          0.215547                  -0.492091                  0.257304   \n",
       "7          0.482550                  -1.093239                 -0.154860   \n",
       "8          0.196581                  -0.423389                 -0.516534   \n",
       "9          0.087810                   0.177760                 -0.474854   \n",
       "\n",
       "   miss_distance_zscore  average_diameter_zscore  \n",
       "0              0.799474                 0.755561  \n",
       "1              0.686710                 1.186880  \n",
       "2              1.235754                -0.068478  \n",
       "3             -0.536195                 0.130790  \n",
       "4              1.038957                -0.258559  \n",
       "5              0.065941                -0.418107  \n",
       "6             -0.686256                -0.078365  \n",
       "7              1.369048                 0.447381  \n",
       "8             -1.727045                -0.115710  \n",
       "9              0.968800                -0.329888  "
      ]
     },
     "execution_count": 48,
     "metadata": {},
     "output_type": "execute_result"
    }
   ],
   "source": [
    "neo.head(10)"
   ]
  },
  {
   "cell_type": "code",
   "execution_count": 49,
   "id": "2fb80d067d2da79a",
   "metadata": {
    "ExecuteTime": {
     "end_time": "2024-07-20T08:05:05.514782Z",
     "start_time": "2024-07-20T08:05:05.508501Z"
    },
    "collapsed": false,
    "jupyter": {
     "outputs_hidden": false
    }
   },
   "outputs": [],
   "source": [
    "from sklearn.preprocessing import RobustScaler"
   ]
  },
  {
   "cell_type": "code",
   "execution_count": 50,
   "id": "d384d0299da4f5b2",
   "metadata": {
    "ExecuteTime": {
     "end_time": "2024-07-20T08:05:51.511375Z",
     "start_time": "2024-07-20T08:05:51.371774Z"
    },
    "collapsed": false,
    "jupyter": {
     "outputs_hidden": false
    }
   },
   "outputs": [],
   "source": [
    "\n",
    "\n",
    "cols_to_scale = ['absolute_magnitude', 'relative_velocity', 'miss_distance', 'average_diameter']\n",
    "\n",
    "# Create a RobustScaler object\n",
    "scaler = RobustScaler()\n",
    "\n",
    "# Fit and transform the data\n",
    "neo[cols_to_scale] = scaler.fit_transform(neo[cols_to_scale])\n"
   ]
  },
  {
   "cell_type": "code",
   "execution_count": 51,
   "id": "6adbdd8094fa8f36",
   "metadata": {
    "ExecuteTime": {
     "end_time": "2024-07-20T08:06:15.474302Z",
     "start_time": "2024-07-20T08:06:15.454273Z"
    },
    "collapsed": false,
    "jupyter": {
     "outputs_hidden": false
    }
   },
   "outputs": [
    {
     "data": {
      "text/html": [
       "<div>\n",
       "<style scoped>\n",
       "    .dataframe tbody tr th:only-of-type {\n",
       "        vertical-align: middle;\n",
       "    }\n",
       "\n",
       "    .dataframe tbody tr th {\n",
       "        vertical-align: top;\n",
       "    }\n",
       "\n",
       "    .dataframe thead th {\n",
       "        text-align: right;\n",
       "    }\n",
       "</style>\n",
       "<table border=\"1\" class=\"dataframe\">\n",
       "  <thead>\n",
       "    <tr style=\"text-align: right;\">\n",
       "      <th></th>\n",
       "      <th>absolute_magnitude</th>\n",
       "      <th>relative_velocity</th>\n",
       "      <th>miss_distance</th>\n",
       "      <th>is_hazardous_encoded</th>\n",
       "      <th>average_diameter</th>\n",
       "      <th>absolute_magnitude_zscore</th>\n",
       "      <th>relative_velocity_zscore</th>\n",
       "      <th>miss_distance_zscore</th>\n",
       "      <th>average_diameter_zscore</th>\n",
       "    </tr>\n",
       "  </thead>\n",
       "  <tbody>\n",
       "    <tr>\n",
       "      <th>0</th>\n",
       "      <td>-0.839450</td>\n",
       "      <td>0.672518</td>\n",
       "      <td>0.430796</td>\n",
       "      <td>0</td>\n",
       "      <td>1.966030</td>\n",
       "      <td>-1.302783</td>\n",
       "      <td>0.783535</td>\n",
       "      <td>0.799474</td>\n",
       "      <td>0.755561</td>\n",
       "    </tr>\n",
       "    <tr>\n",
       "      <th>1</th>\n",
       "      <td>-0.986239</td>\n",
       "      <td>1.734877</td>\n",
       "      <td>0.362686</td>\n",
       "      <td>1</td>\n",
       "      <td>2.793243</td>\n",
       "      <td>-1.522631</td>\n",
       "      <td>2.230712</td>\n",
       "      <td>0.686710</td>\n",
       "      <td>1.186880</td>\n",
       "    </tr>\n",
       "    <tr>\n",
       "      <th>2</th>\n",
       "      <td>-0.309633</td>\n",
       "      <td>-0.631085</td>\n",
       "      <td>0.694307</td>\n",
       "      <td>0</td>\n",
       "      <td>0.385631</td>\n",
       "      <td>-0.509267</td>\n",
       "      <td>-0.992269</td>\n",
       "      <td>1.235754</td>\n",
       "      <td>-0.068478</td>\n",
       "    </tr>\n",
       "    <tr>\n",
       "      <th>3</th>\n",
       "      <td>-0.497706</td>\n",
       "      <td>0.871192</td>\n",
       "      <td>-0.375944</td>\n",
       "      <td>0</td>\n",
       "      <td>0.767802</td>\n",
       "      <td>-0.790948</td>\n",
       "      <td>1.054175</td>\n",
       "      <td>-0.536195</td>\n",
       "      <td>0.130790</td>\n",
       "    </tr>\n",
       "    <tr>\n",
       "      <th>4</th>\n",
       "      <td>-0.022936</td>\n",
       "      <td>0.235696</td>\n",
       "      <td>0.575442</td>\n",
       "      <td>0</td>\n",
       "      <td>0.021082</td>\n",
       "      <td>-0.079875</td>\n",
       "      <td>0.188485</td>\n",
       "      <td>1.038957</td>\n",
       "      <td>-0.258559</td>\n",
       "    </tr>\n",
       "    <tr>\n",
       "      <th>5</th>\n",
       "      <td>0.504587</td>\n",
       "      <td>-0.002303</td>\n",
       "      <td>-0.012256</td>\n",
       "      <td>0</td>\n",
       "      <td>-0.284910</td>\n",
       "      <td>0.710205</td>\n",
       "      <td>-0.135724</td>\n",
       "      <td>0.065941</td>\n",
       "      <td>-0.418107</td>\n",
       "    </tr>\n",
       "    <tr>\n",
       "      <th>6</th>\n",
       "      <td>-0.298165</td>\n",
       "      <td>0.286216</td>\n",
       "      <td>-0.466580</td>\n",
       "      <td>1</td>\n",
       "      <td>0.366671</td>\n",
       "      <td>-0.492091</td>\n",
       "      <td>0.257304</td>\n",
       "      <td>-0.686256</td>\n",
       "      <td>-0.078365</td>\n",
       "    </tr>\n",
       "    <tr>\n",
       "      <th>7</th>\n",
       "      <td>-0.699541</td>\n",
       "      <td>-0.016350</td>\n",
       "      <td>0.774816</td>\n",
       "      <td>0</td>\n",
       "      <td>1.374981</td>\n",
       "      <td>-1.093239</td>\n",
       "      <td>-0.154860</td>\n",
       "      <td>1.369048</td>\n",
       "      <td>0.447381</td>\n",
       "    </tr>\n",
       "    <tr>\n",
       "      <th>8</th>\n",
       "      <td>-0.252294</td>\n",
       "      <td>-0.281852</td>\n",
       "      <td>-1.095214</td>\n",
       "      <td>1</td>\n",
       "      <td>0.295048</td>\n",
       "      <td>-0.423389</td>\n",
       "      <td>-0.516534</td>\n",
       "      <td>-1.727045</td>\n",
       "      <td>-0.115710</td>\n",
       "    </tr>\n",
       "    <tr>\n",
       "      <th>9</th>\n",
       "      <td>0.149083</td>\n",
       "      <td>-0.251256</td>\n",
       "      <td>0.533068</td>\n",
       "      <td>0</td>\n",
       "      <td>-0.115718</td>\n",
       "      <td>0.177760</td>\n",
       "      <td>-0.474854</td>\n",
       "      <td>0.968800</td>\n",
       "      <td>-0.329888</td>\n",
       "    </tr>\n",
       "  </tbody>\n",
       "</table>\n",
       "</div>"
      ],
      "text/plain": [
       "   absolute_magnitude  relative_velocity  miss_distance  is_hazardous_encoded  \\\n",
       "0           -0.839450           0.672518       0.430796                     0   \n",
       "1           -0.986239           1.734877       0.362686                     1   \n",
       "2           -0.309633          -0.631085       0.694307                     0   \n",
       "3           -0.497706           0.871192      -0.375944                     0   \n",
       "4           -0.022936           0.235696       0.575442                     0   \n",
       "5            0.504587          -0.002303      -0.012256                     0   \n",
       "6           -0.298165           0.286216      -0.466580                     1   \n",
       "7           -0.699541          -0.016350       0.774816                     0   \n",
       "8           -0.252294          -0.281852      -1.095214                     1   \n",
       "9            0.149083          -0.251256       0.533068                     0   \n",
       "\n",
       "   average_diameter  absolute_magnitude_zscore  relative_velocity_zscore  \\\n",
       "0          1.966030                  -1.302783                  0.783535   \n",
       "1          2.793243                  -1.522631                  2.230712   \n",
       "2          0.385631                  -0.509267                 -0.992269   \n",
       "3          0.767802                  -0.790948                  1.054175   \n",
       "4          0.021082                  -0.079875                  0.188485   \n",
       "5         -0.284910                   0.710205                 -0.135724   \n",
       "6          0.366671                  -0.492091                  0.257304   \n",
       "7          1.374981                  -1.093239                 -0.154860   \n",
       "8          0.295048                  -0.423389                 -0.516534   \n",
       "9         -0.115718                   0.177760                 -0.474854   \n",
       "\n",
       "   miss_distance_zscore  average_diameter_zscore  \n",
       "0              0.799474                 0.755561  \n",
       "1              0.686710                 1.186880  \n",
       "2              1.235754                -0.068478  \n",
       "3             -0.536195                 0.130790  \n",
       "4              1.038957                -0.258559  \n",
       "5              0.065941                -0.418107  \n",
       "6             -0.686256                -0.078365  \n",
       "7              1.369048                 0.447381  \n",
       "8             -1.727045                -0.115710  \n",
       "9              0.968800                -0.329888  "
      ]
     },
     "execution_count": 51,
     "metadata": {},
     "output_type": "execute_result"
    }
   ],
   "source": [
    "neo.head(10)"
   ]
  },
  {
   "cell_type": "code",
   "execution_count": 53,
   "id": "5b829f70dcdf1054",
   "metadata": {
    "ExecuteTime": {
     "end_time": "2024-07-20T08:06:56.613327Z",
     "start_time": "2024-07-20T08:06:56.376772Z"
    },
    "collapsed": false,
    "jupyter": {
     "outputs_hidden": false
    }
   },
   "outputs": [
    {
     "data": {
      "text/html": [
       "<div>\n",
       "<style scoped>\n",
       "    .dataframe tbody tr th:only-of-type {\n",
       "        vertical-align: middle;\n",
       "    }\n",
       "\n",
       "    .dataframe tbody tr th {\n",
       "        vertical-align: top;\n",
       "    }\n",
       "\n",
       "    .dataframe thead th {\n",
       "        text-align: right;\n",
       "    }\n",
       "</style>\n",
       "<table border=\"1\" class=\"dataframe\">\n",
       "  <thead>\n",
       "    <tr style=\"text-align: right;\">\n",
       "      <th></th>\n",
       "      <th>absolute_magnitude</th>\n",
       "      <th>relative_velocity</th>\n",
       "      <th>miss_distance</th>\n",
       "      <th>is_hazardous_encoded</th>\n",
       "      <th>average_diameter</th>\n",
       "      <th>absolute_magnitude_zscore</th>\n",
       "      <th>relative_velocity_zscore</th>\n",
       "      <th>miss_distance_zscore</th>\n",
       "      <th>average_diameter_zscore</th>\n",
       "    </tr>\n",
       "  </thead>\n",
       "  <tbody>\n",
       "    <tr>\n",
       "      <th>count</th>\n",
       "      <td>338199.000000</td>\n",
       "      <td>338199.000000</td>\n",
       "      <td>338199.000000</td>\n",
       "      <td>338199.000000</td>\n",
       "      <td>338199.000000</td>\n",
       "      <td>3.381990e+05</td>\n",
       "      <td>3.381990e+05</td>\n",
       "      <td>3.381990e+05</td>\n",
       "      <td>3.381990e+05</td>\n",
       "    </tr>\n",
       "    <tr>\n",
       "      <th>mean</th>\n",
       "      <td>0.030396</td>\n",
       "      <td>0.097331</td>\n",
       "      <td>-0.052084</td>\n",
       "      <td>0.127623</td>\n",
       "      <td>0.516964</td>\n",
       "      <td>8.108027e-16</td>\n",
       "      <td>1.603453e-16</td>\n",
       "      <td>4.981798e-16</td>\n",
       "      <td>-2.790076e-16</td>\n",
       "    </tr>\n",
       "    <tr>\n",
       "      <th>std</th>\n",
       "      <td>0.667683</td>\n",
       "      <td>0.734091</td>\n",
       "      <td>0.603997</td>\n",
       "      <td>0.333670</td>\n",
       "      <td>1.917867</td>\n",
       "      <td>1.000000e+00</td>\n",
       "      <td>1.000000e+00</td>\n",
       "      <td>1.000000e+00</td>\n",
       "      <td>1.000000e+00</td>\n",
       "    </tr>\n",
       "    <tr>\n",
       "      <th>min</th>\n",
       "      <td>-3.107798</td>\n",
       "      <td>-1.316873</td>\n",
       "      <td>-1.259514</td>\n",
       "      <td>0.000000</td>\n",
       "      <td>-0.444199</td>\n",
       "      <td>-4.700129e+00</td>\n",
       "      <td>-1.926469e+00</td>\n",
       "      <td>-1.999067e+00</td>\n",
       "      <td>-5.011623e-01</td>\n",
       "    </tr>\n",
       "    <tr>\n",
       "      <th>25%</th>\n",
       "      <td>-0.472477</td>\n",
       "      <td>-0.468509</td>\n",
       "      <td>-0.534431</td>\n",
       "      <td>0.000000</td>\n",
       "      <td>-0.292219</td>\n",
       "      <td>-7.531614e-01</td>\n",
       "      <td>-7.708037e-01</td>\n",
       "      <td>-7.985925e-01</td>\n",
       "      <td>-4.219181e-01</td>\n",
       "    </tr>\n",
       "    <tr>\n",
       "      <th>50%</th>\n",
       "      <td>0.000000</td>\n",
       "      <td>0.000000</td>\n",
       "      <td>0.000000</td>\n",
       "      <td>0.000000</td>\n",
       "      <td>0.000000</td>\n",
       "      <td>-4.552408e-02</td>\n",
       "      <td>-1.325871e-01</td>\n",
       "      <td>8.623249e-02</td>\n",
       "      <td>-2.695513e-01</td>\n",
       "    </tr>\n",
       "    <tr>\n",
       "      <th>75%</th>\n",
       "      <td>0.527523</td>\n",
       "      <td>0.531491</td>\n",
       "      <td>0.465569</td>\n",
       "      <td>0.000000</td>\n",
       "      <td>0.707781</td>\n",
       "      <td>7.445564e-01</td>\n",
       "      <td>5.914245e-01</td>\n",
       "      <td>8.570455e-01</td>\n",
       "      <td>9.949435e-02</td>\n",
       "    </tr>\n",
       "    <tr>\n",
       "      <th>max</th>\n",
       "      <td>2.472477</td>\n",
       "      <td>6.791115</td>\n",
       "      <td>0.915035</td>\n",
       "      <td>1.000000</td>\n",
       "      <td>228.967139</td>\n",
       "      <td>3.657549e+00</td>\n",
       "      <td>9.118462e+00</td>\n",
       "      <td>1.601199e+00</td>\n",
       "      <td>1.191168e+02</td>\n",
       "    </tr>\n",
       "  </tbody>\n",
       "</table>\n",
       "</div>"
      ],
      "text/plain": [
       "       absolute_magnitude  relative_velocity  miss_distance  \\\n",
       "count       338199.000000      338199.000000  338199.000000   \n",
       "mean             0.030396           0.097331      -0.052084   \n",
       "std              0.667683           0.734091       0.603997   \n",
       "min             -3.107798          -1.316873      -1.259514   \n",
       "25%             -0.472477          -0.468509      -0.534431   \n",
       "50%              0.000000           0.000000       0.000000   \n",
       "75%              0.527523           0.531491       0.465569   \n",
       "max              2.472477           6.791115       0.915035   \n",
       "\n",
       "       is_hazardous_encoded  average_diameter  absolute_magnitude_zscore  \\\n",
       "count         338199.000000     338199.000000               3.381990e+05   \n",
       "mean               0.127623          0.516964               8.108027e-16   \n",
       "std                0.333670          1.917867               1.000000e+00   \n",
       "min                0.000000         -0.444199              -4.700129e+00   \n",
       "25%                0.000000         -0.292219              -7.531614e-01   \n",
       "50%                0.000000          0.000000              -4.552408e-02   \n",
       "75%                0.000000          0.707781               7.445564e-01   \n",
       "max                1.000000        228.967139               3.657549e+00   \n",
       "\n",
       "       relative_velocity_zscore  miss_distance_zscore  average_diameter_zscore  \n",
       "count              3.381990e+05          3.381990e+05             3.381990e+05  \n",
       "mean               1.603453e-16          4.981798e-16            -2.790076e-16  \n",
       "std                1.000000e+00          1.000000e+00             1.000000e+00  \n",
       "min               -1.926469e+00         -1.999067e+00            -5.011623e-01  \n",
       "25%               -7.708037e-01         -7.985925e-01            -4.219181e-01  \n",
       "50%               -1.325871e-01          8.623249e-02            -2.695513e-01  \n",
       "75%                5.914245e-01          8.570455e-01             9.949435e-02  \n",
       "max                9.118462e+00          1.601199e+00             1.191168e+02  "
      ]
     },
     "execution_count": 53,
     "metadata": {},
     "output_type": "execute_result"
    }
   ],
   "source": [
    "neo.describe()"
   ]
  },
  {
   "cell_type": "code",
   "execution_count": 54,
   "id": "c9aabfce4244e3ce",
   "metadata": {
    "ExecuteTime": {
     "end_time": "2024-07-20T08:21:07.418912Z",
     "start_time": "2024-07-20T08:21:07.397681Z"
    },
    "collapsed": false,
    "jupyter": {
     "outputs_hidden": false
    }
   },
   "outputs": [],
   "source": [
    "X=neo[['absolute_magnitude','relative_velocity','miss_distance','average_diameter']]\n",
    "y=neo[['is_hazardous_encoded']]\n",
    "from sklearn.model_selection import train_test_split"
   ]
  },
  {
   "cell_type": "code",
   "execution_count": 70,
   "id": "3fd8daf4c20023c4",
   "metadata": {
    "ExecuteTime": {
     "end_time": "2024-07-20T08:32:04.715994Z",
     "start_time": "2024-07-20T08:32:04.653840Z"
    },
    "collapsed": false,
    "jupyter": {
     "outputs_hidden": false
    }
   },
   "outputs": [],
   "source": [
    "X_train, X_test, y_train, y_test = train_test_split(X, y, test_size=0.3, random_state=42)"
   ]
  },
  {
   "cell_type": "code",
   "execution_count": 71,
   "id": "baf1aeefd8385f61",
   "metadata": {
    "ExecuteTime": {
     "end_time": "2024-07-20T08:32:05.617877Z",
     "start_time": "2024-07-20T08:32:05.610310Z"
    },
    "collapsed": false,
    "jupyter": {
     "outputs_hidden": false
    }
   },
   "outputs": [
    {
     "data": {
      "text/plain": [
       "(236739, 4)"
      ]
     },
     "execution_count": 71,
     "metadata": {},
     "output_type": "execute_result"
    }
   ],
   "source": [
    "X_train.shape"
   ]
  },
  {
   "cell_type": "code",
   "execution_count": 72,
   "id": "fe3062ebed779927",
   "metadata": {
    "ExecuteTime": {
     "end_time": "2024-07-20T08:32:06.534183Z",
     "start_time": "2024-07-20T08:32:06.526578Z"
    },
    "collapsed": false,
    "jupyter": {
     "outputs_hidden": false
    }
   },
   "outputs": [
    {
     "data": {
      "text/plain": [
       "(236739, 1)"
      ]
     },
     "execution_count": 72,
     "metadata": {},
     "output_type": "execute_result"
    }
   ],
   "source": [
    "y_train.shape"
   ]
  },
  {
   "cell_type": "code",
   "execution_count": 73,
   "id": "a8d4eb5a5a868401",
   "metadata": {
    "ExecuteTime": {
     "end_time": "2024-07-20T08:32:07.829366Z",
     "start_time": "2024-07-20T08:32:07.812326Z"
    },
    "collapsed": false,
    "jupyter": {
     "outputs_hidden": false
    }
   },
   "outputs": [
    {
     "name": "stdout",
     "output_type": "stream",
     "text": [
      "<class 'pandas.core.frame.DataFrame'>\n",
      "Index: 236739 entries, 312448 to 121958\n",
      "Data columns (total 4 columns):\n",
      " #   Column              Non-Null Count   Dtype  \n",
      "---  ------              --------------   -----  \n",
      " 0   absolute_magnitude  236739 non-null  float64\n",
      " 1   relative_velocity   236739 non-null  float64\n",
      " 2   miss_distance       236739 non-null  float64\n",
      " 3   average_diameter    236739 non-null  float64\n",
      "dtypes: float64(4)\n",
      "memory usage: 9.0 MB\n"
     ]
    }
   ],
   "source": [
    "X_train.info()"
   ]
  },
  {
   "cell_type": "code",
   "execution_count": 74,
   "id": "62d96ec86af77b67",
   "metadata": {
    "ExecuteTime": {
     "end_time": "2024-07-20T08:32:09.554497Z",
     "start_time": "2024-07-20T08:32:09.548597Z"
    },
    "collapsed": false,
    "jupyter": {
     "outputs_hidden": false
    }
   },
   "outputs": [],
   "source": [
    "\n",
    "from sklearn.linear_model import LogisticRegression\n",
    "from sklearn.metrics import accuracy_score"
   ]
  },
  {
   "cell_type": "code",
   "execution_count": 75,
   "id": "cb6d8a9244651606",
   "metadata": {
    "ExecuteTime": {
     "end_time": "2024-07-20T08:32:10.948009Z",
     "start_time": "2024-07-20T08:32:10.943695Z"
    },
    "collapsed": false,
    "jupyter": {
     "outputs_hidden": false
    }
   },
   "outputs": [],
   "source": [
    "model=LogisticRegression()"
   ]
  },
  {
   "cell_type": "code",
   "execution_count": 76,
   "id": "8f33fdad53d5c47c",
   "metadata": {
    "ExecuteTime": {
     "end_time": "2024-07-20T08:32:12.240056Z",
     "start_time": "2024-07-20T08:32:11.840665Z"
    },
    "collapsed": false,
    "jupyter": {
     "outputs_hidden": false
    }
   },
   "outputs": [
    {
     "data": {
      "text/html": [
       "<style>#sk-container-id-3 {color: black;}#sk-container-id-3 pre{padding: 0;}#sk-container-id-3 div.sk-toggleable {background-color: white;}#sk-container-id-3 label.sk-toggleable__label {cursor: pointer;display: block;width: 100%;margin-bottom: 0;padding: 0.3em;box-sizing: border-box;text-align: center;}#sk-container-id-3 label.sk-toggleable__label-arrow:before {content: \"▸\";float: left;margin-right: 0.25em;color: #696969;}#sk-container-id-3 label.sk-toggleable__label-arrow:hover:before {color: black;}#sk-container-id-3 div.sk-estimator:hover label.sk-toggleable__label-arrow:before {color: black;}#sk-container-id-3 div.sk-toggleable__content {max-height: 0;max-width: 0;overflow: hidden;text-align: left;background-color: #f0f8ff;}#sk-container-id-3 div.sk-toggleable__content pre {margin: 0.2em;color: black;border-radius: 0.25em;background-color: #f0f8ff;}#sk-container-id-3 input.sk-toggleable__control:checked~div.sk-toggleable__content {max-height: 200px;max-width: 100%;overflow: auto;}#sk-container-id-3 input.sk-toggleable__control:checked~label.sk-toggleable__label-arrow:before {content: \"▾\";}#sk-container-id-3 div.sk-estimator input.sk-toggleable__control:checked~label.sk-toggleable__label {background-color: #d4ebff;}#sk-container-id-3 div.sk-label input.sk-toggleable__control:checked~label.sk-toggleable__label {background-color: #d4ebff;}#sk-container-id-3 input.sk-hidden--visually {border: 0;clip: rect(1px 1px 1px 1px);clip: rect(1px, 1px, 1px, 1px);height: 1px;margin: -1px;overflow: hidden;padding: 0;position: absolute;width: 1px;}#sk-container-id-3 div.sk-estimator {font-family: monospace;background-color: #f0f8ff;border: 1px dotted black;border-radius: 0.25em;box-sizing: border-box;margin-bottom: 0.5em;}#sk-container-id-3 div.sk-estimator:hover {background-color: #d4ebff;}#sk-container-id-3 div.sk-parallel-item::after {content: \"\";width: 100%;border-bottom: 1px solid gray;flex-grow: 1;}#sk-container-id-3 div.sk-label:hover label.sk-toggleable__label {background-color: #d4ebff;}#sk-container-id-3 div.sk-serial::before {content: \"\";position: absolute;border-left: 1px solid gray;box-sizing: border-box;top: 0;bottom: 0;left: 50%;z-index: 0;}#sk-container-id-3 div.sk-serial {display: flex;flex-direction: column;align-items: center;background-color: white;padding-right: 0.2em;padding-left: 0.2em;position: relative;}#sk-container-id-3 div.sk-item {position: relative;z-index: 1;}#sk-container-id-3 div.sk-parallel {display: flex;align-items: stretch;justify-content: center;background-color: white;position: relative;}#sk-container-id-3 div.sk-item::before, #sk-container-id-3 div.sk-parallel-item::before {content: \"\";position: absolute;border-left: 1px solid gray;box-sizing: border-box;top: 0;bottom: 0;left: 50%;z-index: -1;}#sk-container-id-3 div.sk-parallel-item {display: flex;flex-direction: column;z-index: 1;position: relative;background-color: white;}#sk-container-id-3 div.sk-parallel-item:first-child::after {align-self: flex-end;width: 50%;}#sk-container-id-3 div.sk-parallel-item:last-child::after {align-self: flex-start;width: 50%;}#sk-container-id-3 div.sk-parallel-item:only-child::after {width: 0;}#sk-container-id-3 div.sk-dashed-wrapped {border: 1px dashed gray;margin: 0 0.4em 0.5em 0.4em;box-sizing: border-box;padding-bottom: 0.4em;background-color: white;}#sk-container-id-3 div.sk-label label {font-family: monospace;font-weight: bold;display: inline-block;line-height: 1.2em;}#sk-container-id-3 div.sk-label-container {text-align: center;}#sk-container-id-3 div.sk-container {/* jupyter's `normalize.less` sets `[hidden] { display: none; }` but bootstrap.min.css set `[hidden] { display: none !important; }` so we also need the `!important` here to be able to override the default hidden behavior on the sphinx rendered scikit-learn.org. See: https://github.com/scikit-learn/scikit-learn/issues/21755 */display: inline-block !important;position: relative;}#sk-container-id-3 div.sk-text-repr-fallback {display: none;}</style><div id=\"sk-container-id-3\" class=\"sk-top-container\"><div class=\"sk-text-repr-fallback\"><pre>LogisticRegression()</pre><b>In a Jupyter environment, please rerun this cell to show the HTML representation or trust the notebook. <br />On GitHub, the HTML representation is unable to render, please try loading this page with nbviewer.org.</b></div><div class=\"sk-container\" hidden><div class=\"sk-item\"><div class=\"sk-estimator sk-toggleable\"><input class=\"sk-toggleable__control sk-hidden--visually\" id=\"sk-estimator-id-3\" type=\"checkbox\" checked><label for=\"sk-estimator-id-3\" class=\"sk-toggleable__label sk-toggleable__label-arrow\">LogisticRegression</label><div class=\"sk-toggleable__content\"><pre>LogisticRegression()</pre></div></div></div></div></div>"
      ],
      "text/plain": [
       "LogisticRegression()"
      ]
     },
     "execution_count": 76,
     "metadata": {},
     "output_type": "execute_result"
    }
   ],
   "source": [
    "\n",
    "y_train=y_train['is_hazardous_encoded'].ravel()\n",
    "#ravel converting df into numpy array as array is expected in syntax\n",
    "model.fit(X_train,y_train)"
   ]
  },
  {
   "cell_type": "code",
   "execution_count": 77,
   "id": "a385c8ba3878bdca",
   "metadata": {
    "ExecuteTime": {
     "end_time": "2024-07-20T08:32:13.470448Z",
     "start_time": "2024-07-20T08:32:13.443320Z"
    },
    "collapsed": false,
    "jupyter": {
     "outputs_hidden": false
    }
   },
   "outputs": [],
   "source": [
    "y_predicted=model.predict(X_test)"
   ]
  },
  {
   "cell_type": "code",
   "execution_count": 78,
   "id": "d56ddd3ce89b226e",
   "metadata": {
    "ExecuteTime": {
     "end_time": "2024-07-20T08:33:01.196736Z",
     "start_time": "2024-07-20T08:33:01.171833Z"
    },
    "collapsed": false,
    "jupyter": {
     "outputs_hidden": false
    }
   },
   "outputs": [
    {
     "name": "stdout",
     "output_type": "stream",
     "text": [
      "Accuracy: 0.8715552927261975\n"
     ]
    }
   ],
   "source": [
    "accuracy = accuracy_score(y_test, y_predicted)\n",
    "print(\"Accuracy:\", accuracy)"
   ]
  },
  {
   "cell_type": "code",
   "execution_count": 79,
   "id": "20ecc81b42f3d599",
   "metadata": {
    "ExecuteTime": {
     "end_time": "2024-07-20T11:32:59.135301Z",
     "start_time": "2024-07-20T11:32:59.077253Z"
    },
    "collapsed": false,
    "jupyter": {
     "outputs_hidden": false
    }
   },
   "outputs": [],
   "source": [
    "from sklearn.metrics import accuracy_score, confusion_matrix, classification_report"
   ]
  },
  {
   "cell_type": "code",
   "execution_count": 80,
   "id": "eda56e60067541f3",
   "metadata": {
    "ExecuteTime": {
     "end_time": "2024-07-20T11:33:54.775435Z",
     "start_time": "2024-07-20T11:33:54.479326Z"
    },
    "collapsed": false,
    "jupyter": {
     "outputs_hidden": false
    }
   },
   "outputs": [
    {
     "name": "stdout",
     "output_type": "stream",
     "text": [
      "Confusion Matrix:\n",
      "[[87486   982]\n",
      " [12050   942]]\n",
      "Classification Report:\n",
      "              precision    recall  f1-score   support\n",
      "\n",
      "           0       0.88      0.99      0.93     88468\n",
      "           1       0.49      0.07      0.13     12992\n",
      "\n",
      "    accuracy                           0.87    101460\n",
      "   macro avg       0.68      0.53      0.53    101460\n",
      "weighted avg       0.83      0.87      0.83    101460\n"
     ]
    }
   ],
   "source": [
    "conf_matrix = confusion_matrix(y_test, y_predicted)\n",
    "class_report = classification_report(y_test, y_predicted)\n",
    "\n",
    "print(\"Confusion Matrix:\")\n",
    "print(conf_matrix)\n",
    "print(\"Classification Report:\")\n",
    "print(class_report)"
   ]
  },
  {
   "cell_type": "code",
   "execution_count": null,
   "id": "fd0ecacf2a0bbe7f",
   "metadata": {
    "collapsed": false,
    "jupyter": {
     "outputs_hidden": false
    }
   },
   "outputs": [],
   "source": []
  }
 ],
 "metadata": {
  "kernelspec": {
   "display_name": "Python 3 (ipykernel)",
   "language": "python",
   "name": "python3"
  },
  "language_info": {
   "codemirror_mode": {
    "name": "ipython",
    "version": 3
   },
   "file_extension": ".py",
   "mimetype": "text/x-python",
   "name": "python",
   "nbconvert_exporter": "python",
   "pygments_lexer": "ipython3",
   "version": "3.12.2"
  }
 },
 "nbformat": 4,
 "nbformat_minor": 5
}
